{
 "cells": [
  {
   "cell_type": "markdown",
   "metadata": {},
   "source": [
    "# Survival Analysis"
   ]
  },
  {
   "cell_type": "markdown",
   "metadata": {},
   "source": [
    "In this project we will use survival analysis, the aim of this analysis is to measure the 'time to event’ by estimating the time to which the observed will go through an event we are interested in. The event of interest here being when a customer will cancel their subscription. We will not observe this event for all of our customers."
   ]
  },
  {
   "cell_type": "markdown",
   "metadata": {},
   "source": [
    "# 1. Import Libaries"
   ]
  },
  {
   "cell_type": "code",
   "execution_count": 12,
   "metadata": {},
   "outputs": [],
   "source": [
    "# !pip install scikit-plot\n",
    "# !pip install lifelines"
   ]
  },
  {
   "cell_type": "code",
   "execution_count": 1,
   "metadata": {},
   "outputs": [],
   "source": [
    "import pandas as pd\n",
    "import numpy as np\n",
    "import seaborn as sns\n",
    "import matplotlib.pyplot as plt\n",
    "import itertools\n",
    "from matplotlib.gridspec import GridSpec\n",
    "\n",
    "plt.style.use('fivethirtyeight')\n",
    "%matplotlib inline\n",
    "palette = itertools.cycle(sns.color_palette())\n",
    "\n",
    "from sklearn.neighbors import KNeighborsClassifier\n",
    "from sklearn.model_selection import train_test_split\n",
    "from sklearn import metrics\n",
    "from sklearn.model_selection import cross_val_score\n",
    "from sklearn.linear_model import LogisticRegression\n",
    "import scikitplot as skplt\n",
    "\n",
    "from lifelines import KaplanMeierFitter\n",
    "from lifelines import CoxPHFitter\n",
    "from lifelines.plotting import plot_lifetimes\n",
    "from lifelines import WeibullAFTFitter\n",
    "from lifelines.statistics import logrank_test\n",
    "from lifelines.utils import restricted_mean_survival_time\n",
    "from lifelines.plotting import rmst_plot\n",
    "from lifelines import AalenAdditiveFitter, CoxPHFitter\n",
    "from lifelines.utils import k_fold_cross_validation\n",
    "from numpy.random import uniform, exponential"
   ]
  },
  {
   "cell_type": "markdown",
   "metadata": {},
   "source": [
    "# 2. Import Data"
   ]
  },
  {
   "cell_type": "markdown",
   "metadata": {},
   "source": [
    "Lets import two datasets and merge them."
   ]
  },
  {
   "cell_type": "markdown",
   "metadata": {},
   "source": [
    "1. Customer Data"
   ]
  },
  {
   "cell_type": "code",
   "execution_count": 2,
   "metadata": {},
   "outputs": [
    {
     "data": {
      "text/html": [
       "<div>\n",
       "<style scoped>\n",
       "    .dataframe tbody tr th:only-of-type {\n",
       "        vertical-align: middle;\n",
       "    }\n",
       "\n",
       "    .dataframe tbody tr th {\n",
       "        vertical-align: top;\n",
       "    }\n",
       "\n",
       "    .dataframe thead th {\n",
       "        text-align: right;\n",
       "    }\n",
       "</style>\n",
       "<table border=\"1\" class=\"dataframe\">\n",
       "  <thead>\n",
       "    <tr style=\"text-align: right;\">\n",
       "      <th></th>\n",
       "      <th>customerid</th>\n",
       "      <th>client_status</th>\n",
       "      <th>account_status</th>\n",
       "      <th>customer_name</th>\n",
       "      <th>customer_type</th>\n",
       "      <th>value</th>\n",
       "      <th>year_of_current_deal</th>\n",
       "      <th>cancellation_timing</th>\n",
       "      <th>sector</th>\n",
       "      <th>cancellation_reason</th>\n",
       "    </tr>\n",
       "  </thead>\n",
       "  <tbody>\n",
       "    <tr>\n",
       "      <th>852</th>\n",
       "      <td>1476</td>\n",
       "      <td>Mid</td>\n",
       "      <td>Inactive</td>\n",
       "      <td>147</td>\n",
       "      <td>Two</td>\n",
       "      <td>4950</td>\n",
       "      <td>1</td>\n",
       "      <td>Mid-term</td>\n",
       "      <td>General</td>\n",
       "      <td>Switched to competitor</td>\n",
       "    </tr>\n",
       "    <tr>\n",
       "      <th>337</th>\n",
       "      <td>441</td>\n",
       "      <td>Mid</td>\n",
       "      <td>Inactive</td>\n",
       "      <td>1053</td>\n",
       "      <td>Three</td>\n",
       "      <td>4750</td>\n",
       "      <td>1</td>\n",
       "      <td>NaN</td>\n",
       "      <td>Insurance</td>\n",
       "      <td>No longer required</td>\n",
       "    </tr>\n",
       "    <tr>\n",
       "      <th>793</th>\n",
       "      <td>1754</td>\n",
       "      <td>Mid</td>\n",
       "      <td>Active</td>\n",
       "      <td>834</td>\n",
       "      <td>Three</td>\n",
       "      <td>3000</td>\n",
       "      <td>2</td>\n",
       "      <td>NaN</td>\n",
       "      <td>Charity</td>\n",
       "      <td>NaN</td>\n",
       "    </tr>\n",
       "    <tr>\n",
       "      <th>676</th>\n",
       "      <td>1520</td>\n",
       "      <td>High</td>\n",
       "      <td>Active</td>\n",
       "      <td>277</td>\n",
       "      <td>Three</td>\n",
       "      <td>4950</td>\n",
       "      <td>2</td>\n",
       "      <td>NaN</td>\n",
       "      <td>Financials</td>\n",
       "      <td>NaN</td>\n",
       "    </tr>\n",
       "    <tr>\n",
       "      <th>1135</th>\n",
       "      <td>1824</td>\n",
       "      <td>High</td>\n",
       "      <td>Active</td>\n",
       "      <td>709</td>\n",
       "      <td>Two</td>\n",
       "      <td>4950</td>\n",
       "      <td>2</td>\n",
       "      <td>NaN</td>\n",
       "      <td>Travel &amp; Leisure</td>\n",
       "      <td>NaN</td>\n",
       "    </tr>\n",
       "  </tbody>\n",
       "</table>\n",
       "</div>"
      ],
      "text/plain": [
       "      customerid client_status account_status  customer_name customer_type  \\\n",
       "852         1476           Mid       Inactive            147           Two   \n",
       "337          441           Mid       Inactive           1053         Three   \n",
       "793         1754           Mid         Active            834         Three   \n",
       "676         1520          High         Active            277         Three   \n",
       "1135        1824          High         Active            709           Two   \n",
       "\n",
       "      value  year_of_current_deal cancellation_timing            sector  \\\n",
       "852    4950                     1            Mid-term           General   \n",
       "337    4750                     1                 NaN         Insurance   \n",
       "793    3000                     2                 NaN           Charity   \n",
       "676    4950                     2                 NaN        Financials   \n",
       "1135   4950                     2                 NaN  Travel & Leisure   \n",
       "\n",
       "         cancellation_reason  \n",
       "852   Switched to competitor  \n",
       "337       No longer required  \n",
       "793                      NaN  \n",
       "676                      NaN  \n",
       "1135                     NaN  "
      ]
     },
     "execution_count": 2,
     "metadata": {},
     "output_type": "execute_result"
    }
   ],
   "source": [
    "columns = ['customerid','client_status','account_status','customer_name','customer_type','value','year_of_current_deal','cancellation_timing','sector','cancellation_reason']\n",
    "renewals = pd.read_csv('~/Documents/portfolio/datasets/Renewal-Cancelation Book Anonymised3.csv', names=columns, header=0)\n",
    "renewals.sample(5)"
   ]
  },
  {
   "cell_type": "markdown",
   "metadata": {},
   "source": [
    "To give a description of each variable above:\n",
    "\n",
    "<br>\n",
    "\n",
    "<b>customerid</b> : \n",
    "a unique identifier for each account that will be used to join additional datasets later on \n",
    "\n",
    "<b>client_status</b> : \n",
    "a grading system of the account given by the account manager that denotes the level of usage and engagement, high means no cause for concern as high engagement and usage and low means little/no usage and engagement, high risk of cancellation.\n",
    "\n",
    "<b>account_status</b> : \n",
    "denotes whether the client is active (paying customer) or inactive (cancelled)\n",
    "\n",
    "<b>customer_name</b> : \n",
    "customer number     \n",
    "\n",
    "<b>customer_type</b> : \n",
    "we categorise into three pots of client according to size in revenue; one being the smallest, and three being the largest.\n",
    "\n",
    "<b>value</b> : \n",
    "the current price of subscription, there are three types of subcription for which the prices differ and this is dependent on the customer type.\n",
    "\n",
    "<b>year_of_current_deal</b> : \n",
    "the year of maturity of the account\n",
    "\n",
    "<b>cancellation_timing</b> : \n",
    "shows if the cancellation was at the start of a period or mid way through\n",
    "\n",
    "<b>sector</b>: \n",
    "the industry that the customer operates in \n",
    "\n",
    "<b>cancellation_reason</b> : \n",
    "a reason for cancellation picked from a preset list of reasons"
   ]
  },
  {
   "cell_type": "markdown",
   "metadata": {},
   "source": [
    "2. Usage Data"
   ]
  },
  {
   "cell_type": "code",
   "execution_count": 3,
   "metadata": {},
   "outputs": [
    {
     "data": {
      "text/html": [
       "<div>\n",
       "<style scoped>\n",
       "    .dataframe tbody tr th:only-of-type {\n",
       "        vertical-align: middle;\n",
       "    }\n",
       "\n",
       "    .dataframe tbody tr th {\n",
       "        vertical-align: top;\n",
       "    }\n",
       "\n",
       "    .dataframe thead th {\n",
       "        text-align: right;\n",
       "    }\n",
       "</style>\n",
       "<table border=\"1\" class=\"dataframe\">\n",
       "  <thead>\n",
       "    <tr style=\"text-align: right;\">\n",
       "      <th></th>\n",
       "      <th>customerid</th>\n",
       "      <th>year</th>\n",
       "      <th>0</th>\n",
       "      <th>1</th>\n",
       "      <th>2</th>\n",
       "      <th>3</th>\n",
       "      <th>4</th>\n",
       "      <th>5</th>\n",
       "      <th>6</th>\n",
       "      <th>7</th>\n",
       "      <th>...</th>\n",
       "      <th>37</th>\n",
       "      <th>38</th>\n",
       "      <th>39</th>\n",
       "      <th>40</th>\n",
       "      <th>Duration</th>\n",
       "      <th>First month usage</th>\n",
       "      <th>Total Logins</th>\n",
       "      <th>Number of Users</th>\n",
       "      <th>Number of Active Users</th>\n",
       "      <th>Difference in total users and active</th>\n",
       "    </tr>\n",
       "  </thead>\n",
       "  <tbody>\n",
       "    <tr>\n",
       "      <th>0</th>\n",
       "      <td>1452</td>\n",
       "      <td>1</td>\n",
       "      <td>451</td>\n",
       "      <td>NaN</td>\n",
       "      <td>0</td>\n",
       "      <td>NaN</td>\n",
       "      <td>NaN</td>\n",
       "      <td>NaN</td>\n",
       "      <td>NaN</td>\n",
       "      <td>NaN</td>\n",
       "      <td>...</td>\n",
       "      <td>NaN</td>\n",
       "      <td>NaN</td>\n",
       "      <td>NaN</td>\n",
       "      <td>NaN</td>\n",
       "      <td>1</td>\n",
       "      <td>451</td>\n",
       "      <td>451</td>\n",
       "      <td>25</td>\n",
       "      <td>17</td>\n",
       "      <td>8</td>\n",
       "    </tr>\n",
       "    <tr>\n",
       "      <th>1</th>\n",
       "      <td>160</td>\n",
       "      <td>2</td>\n",
       "      <td>3</td>\n",
       "      <td>NaN</td>\n",
       "      <td>0</td>\n",
       "      <td>NaN</td>\n",
       "      <td>NaN</td>\n",
       "      <td>NaN</td>\n",
       "      <td>NaN</td>\n",
       "      <td>NaN</td>\n",
       "      <td>...</td>\n",
       "      <td>NaN</td>\n",
       "      <td>NaN</td>\n",
       "      <td>NaN</td>\n",
       "      <td>NaN</td>\n",
       "      <td>1</td>\n",
       "      <td>3</td>\n",
       "      <td>3</td>\n",
       "      <td>4</td>\n",
       "      <td>1</td>\n",
       "      <td>3</td>\n",
       "    </tr>\n",
       "    <tr>\n",
       "      <th>2</th>\n",
       "      <td>1809</td>\n",
       "      <td>1</td>\n",
       "      <td>1</td>\n",
       "      <td>NaN</td>\n",
       "      <td>0</td>\n",
       "      <td>NaN</td>\n",
       "      <td>NaN</td>\n",
       "      <td>NaN</td>\n",
       "      <td>NaN</td>\n",
       "      <td>NaN</td>\n",
       "      <td>...</td>\n",
       "      <td>NaN</td>\n",
       "      <td>NaN</td>\n",
       "      <td>NaN</td>\n",
       "      <td>NaN</td>\n",
       "      <td>1</td>\n",
       "      <td>1</td>\n",
       "      <td>1</td>\n",
       "      <td>1</td>\n",
       "      <td>1</td>\n",
       "      <td>0</td>\n",
       "    </tr>\n",
       "    <tr>\n",
       "      <th>3</th>\n",
       "      <td>168</td>\n",
       "      <td>1</td>\n",
       "      <td>33</td>\n",
       "      <td>NaN</td>\n",
       "      <td>0</td>\n",
       "      <td>NaN</td>\n",
       "      <td>NaN</td>\n",
       "      <td>NaN</td>\n",
       "      <td>NaN</td>\n",
       "      <td>NaN</td>\n",
       "      <td>...</td>\n",
       "      <td>NaN</td>\n",
       "      <td>NaN</td>\n",
       "      <td>NaN</td>\n",
       "      <td>NaN</td>\n",
       "      <td>1</td>\n",
       "      <td>33</td>\n",
       "      <td>33</td>\n",
       "      <td>1</td>\n",
       "      <td>1</td>\n",
       "      <td>0</td>\n",
       "    </tr>\n",
       "    <tr>\n",
       "      <th>4</th>\n",
       "      <td>2388</td>\n",
       "      <td>1</td>\n",
       "      <td>9</td>\n",
       "      <td>NaN</td>\n",
       "      <td>0</td>\n",
       "      <td>NaN</td>\n",
       "      <td>NaN</td>\n",
       "      <td>NaN</td>\n",
       "      <td>NaN</td>\n",
       "      <td>NaN</td>\n",
       "      <td>...</td>\n",
       "      <td>NaN</td>\n",
       "      <td>NaN</td>\n",
       "      <td>NaN</td>\n",
       "      <td>NaN</td>\n",
       "      <td>1</td>\n",
       "      <td>9</td>\n",
       "      <td>9</td>\n",
       "      <td>2</td>\n",
       "      <td>1</td>\n",
       "      <td>1</td>\n",
       "    </tr>\n",
       "  </tbody>\n",
       "</table>\n",
       "<p>5 rows × 49 columns</p>\n",
       "</div>"
      ],
      "text/plain": [
       "   customerid  year    0   1  2   3   4   5   6   7  ...  37  38  39  40  \\\n",
       "0        1452     1  451 NaN  0 NaN NaN NaN NaN NaN  ... NaN NaN NaN NaN   \n",
       "1         160     2    3 NaN  0 NaN NaN NaN NaN NaN  ... NaN NaN NaN NaN   \n",
       "2        1809     1    1 NaN  0 NaN NaN NaN NaN NaN  ... NaN NaN NaN NaN   \n",
       "3         168     1   33 NaN  0 NaN NaN NaN NaN NaN  ... NaN NaN NaN NaN   \n",
       "4        2388     1    9 NaN  0 NaN NaN NaN NaN NaN  ... NaN NaN NaN NaN   \n",
       "\n",
       "   Duration  First month usage  Total Logins  Number of Users  \\\n",
       "0         1                451           451               25   \n",
       "1         1                  3             3                4   \n",
       "2         1                  1             1                1   \n",
       "3         1                 33            33                1   \n",
       "4         1                  9             9                2   \n",
       "\n",
       "   Number of Active Users  Difference in total users and active  \n",
       "0                      17                                     8  \n",
       "1                       1                                     3  \n",
       "2                       1                                     0  \n",
       "3                       1                                     0  \n",
       "4                       1                                     1  \n",
       "\n",
       "[5 rows x 49 columns]"
      ]
     },
     "execution_count": 3,
     "metadata": {},
     "output_type": "execute_result"
    }
   ],
   "source": [
    "usage = pd.read_csv('~/Documents/portfolio/datasets/usage report duration.csv')\n",
    "usage.rename(columns={'CustomerId':'customerid'},inplace=True)\n",
    "usage.head()"
   ]
  },
  {
   "cell_type": "markdown",
   "metadata": {},
   "source": [
    "The next dataset shows the number of sessions the customer has had on our platform each month (months numbered 0 to 40), first month usage, number of users, number of active users, and the difference between total users and active. Active meaning the user has logged in and used the platform at least once."
   ]
  },
  {
   "cell_type": "code",
   "execution_count": 4,
   "metadata": {},
   "outputs": [
    {
     "data": {
      "text/plain": [
       "(1134, 58)"
      ]
     },
     "execution_count": 4,
     "metadata": {},
     "output_type": "execute_result"
    }
   ],
   "source": [
    "# Merging the two datasets on customer id, which is unique to every customer, dropping any customers in the usage dataset for \n",
    "# which we don't have renewal data for.\n",
    "\n",
    "renewals_usage = pd.merge(renewals, usage, on=['customerid'])\n",
    "renewals_usage.shape"
   ]
  },
  {
   "cell_type": "markdown",
   "metadata": {},
   "source": [
    "# 3. Data Cleaning"
   ]
  },
  {
   "cell_type": "code",
   "execution_count": 5,
   "metadata": {},
   "outputs": [],
   "source": [
    "# Dropping any unwanted columns. \n",
    "\n",
    "renewals_usage.drop(columns=['cancellation_timing','sector','cancellation_reason','client_status'],\n",
    "              inplace=True)"
   ]
  },
  {
   "cell_type": "code",
   "execution_count": 6,
   "metadata": {},
   "outputs": [
    {
     "data": {
      "text/plain": [
       "customerid                                 0\n",
       "account_status                             0\n",
       "customer_name                              0\n",
       "customer_type                              0\n",
       "value                                      0\n",
       "year_of_current_deal                       0\n",
       "year                                       0\n",
       "0                                          0\n",
       "1                                         21\n",
       "2                                          0\n",
       "3                                         87\n",
       "4                                        119\n",
       "5                                        155\n",
       "6                                        200\n",
       "7                                        237\n",
       "8                                        258\n",
       "9                                        290\n",
       "10                                       321\n",
       "11                                       350\n",
       "12                                       386\n",
       "13                                       458\n",
       "14                                       511\n",
       "15                                       566\n",
       "16                                       592\n",
       "17                                       614\n",
       "18                                       632\n",
       "19                                       651\n",
       "20                                       668\n",
       "21                                       687\n",
       "22                                       708\n",
       "23                                       738\n",
       "24                                       779\n",
       "25                                       805\n",
       "26                                       821\n",
       "27                                       848\n",
       "28                                       857\n",
       "29                                       876\n",
       "30                                       884\n",
       "31                                       896\n",
       "32                                       903\n",
       "33                                       913\n",
       "34                                       927\n",
       "35                                       942\n",
       "36                                       950\n",
       "37                                       968\n",
       "38                                       982\n",
       "39                                       994\n",
       "40                                      1000\n",
       "Duration                                   0\n",
       "First month usage                          0\n",
       "Total Logins                               0\n",
       "Number of Users                            0\n",
       "Number of Active Users                     0\n",
       "Difference in total users and active       0\n",
       "dtype: int64"
      ]
     },
     "execution_count": 6,
     "metadata": {},
     "output_type": "execute_result"
    }
   ],
   "source": [
    "renewals_usage.isnull().sum()"
   ]
  },
  {
   "cell_type": "code",
   "execution_count": 7,
   "metadata": {},
   "outputs": [
    {
     "data": {
      "text/plain": [
       "569    4\n",
       "21     2\n",
       "386    1\n",
       "379    1\n",
       "380    1\n",
       "      ..\n",
       "760    1\n",
       "759    1\n",
       "758    1\n",
       "757    1\n",
       "1      1\n",
       "Name: customer_name, Length: 1130, dtype: int64"
      ]
     },
     "execution_count": 7,
     "metadata": {},
     "output_type": "execute_result"
    }
   ],
   "source": [
    "# Checking for duplicate entries for clients\n",
    "\n",
    "renewals_usage.customer_name.value_counts()"
   ]
  },
  {
   "cell_type": "code",
   "execution_count": 8,
   "metadata": {},
   "outputs": [
    {
     "data": {
      "text/html": [
       "<div>\n",
       "<style scoped>\n",
       "    .dataframe tbody tr th:only-of-type {\n",
       "        vertical-align: middle;\n",
       "    }\n",
       "\n",
       "    .dataframe tbody tr th {\n",
       "        vertical-align: top;\n",
       "    }\n",
       "\n",
       "    .dataframe thead th {\n",
       "        text-align: right;\n",
       "    }\n",
       "</style>\n",
       "<table border=\"1\" class=\"dataframe\">\n",
       "  <thead>\n",
       "    <tr style=\"text-align: right;\">\n",
       "      <th></th>\n",
       "      <th>customerid</th>\n",
       "      <th>account_status</th>\n",
       "      <th>customer_name</th>\n",
       "      <th>customer_type</th>\n",
       "      <th>value</th>\n",
       "      <th>year_of_current_deal</th>\n",
       "      <th>year</th>\n",
       "      <th>0</th>\n",
       "      <th>1</th>\n",
       "      <th>2</th>\n",
       "      <th>...</th>\n",
       "      <th>37</th>\n",
       "      <th>38</th>\n",
       "      <th>39</th>\n",
       "      <th>40</th>\n",
       "      <th>Duration</th>\n",
       "      <th>First month usage</th>\n",
       "      <th>Total Logins</th>\n",
       "      <th>Number of Users</th>\n",
       "      <th>Number of Active Users</th>\n",
       "      <th>Difference in total users and active</th>\n",
       "    </tr>\n",
       "  </thead>\n",
       "  <tbody>\n",
       "    <tr>\n",
       "      <th>167</th>\n",
       "      <td>1490</td>\n",
       "      <td>Inactive</td>\n",
       "      <td>569</td>\n",
       "      <td>Two</td>\n",
       "      <td>10500</td>\n",
       "      <td>1</td>\n",
       "      <td>1</td>\n",
       "      <td>1</td>\n",
       "      <td>114.0</td>\n",
       "      <td>0</td>\n",
       "      <td>...</td>\n",
       "      <td>NaN</td>\n",
       "      <td>NaN</td>\n",
       "      <td>NaN</td>\n",
       "      <td>NaN</td>\n",
       "      <td>2</td>\n",
       "      <td>1</td>\n",
       "      <td>115</td>\n",
       "      <td>23</td>\n",
       "      <td>12</td>\n",
       "      <td>11</td>\n",
       "    </tr>\n",
       "    <tr>\n",
       "      <th>168</th>\n",
       "      <td>1490</td>\n",
       "      <td>Inactive</td>\n",
       "      <td>569</td>\n",
       "      <td>Two</td>\n",
       "      <td>10500</td>\n",
       "      <td>1</td>\n",
       "      <td>1</td>\n",
       "      <td>144</td>\n",
       "      <td>457.0</td>\n",
       "      <td>473</td>\n",
       "      <td>...</td>\n",
       "      <td>NaN</td>\n",
       "      <td>NaN</td>\n",
       "      <td>NaN</td>\n",
       "      <td>NaN</td>\n",
       "      <td>15</td>\n",
       "      <td>144</td>\n",
       "      <td>4485</td>\n",
       "      <td>23</td>\n",
       "      <td>12</td>\n",
       "      <td>11</td>\n",
       "    </tr>\n",
       "    <tr>\n",
       "      <th>169</th>\n",
       "      <td>1490</td>\n",
       "      <td>Inactive</td>\n",
       "      <td>569</td>\n",
       "      <td>Two</td>\n",
       "      <td>10500</td>\n",
       "      <td>1</td>\n",
       "      <td>1</td>\n",
       "      <td>1</td>\n",
       "      <td>114.0</td>\n",
       "      <td>0</td>\n",
       "      <td>...</td>\n",
       "      <td>NaN</td>\n",
       "      <td>NaN</td>\n",
       "      <td>NaN</td>\n",
       "      <td>NaN</td>\n",
       "      <td>2</td>\n",
       "      <td>1</td>\n",
       "      <td>115</td>\n",
       "      <td>23</td>\n",
       "      <td>12</td>\n",
       "      <td>11</td>\n",
       "    </tr>\n",
       "    <tr>\n",
       "      <th>170</th>\n",
       "      <td>1490</td>\n",
       "      <td>Inactive</td>\n",
       "      <td>569</td>\n",
       "      <td>Two</td>\n",
       "      <td>10500</td>\n",
       "      <td>1</td>\n",
       "      <td>1</td>\n",
       "      <td>144</td>\n",
       "      <td>457.0</td>\n",
       "      <td>473</td>\n",
       "      <td>...</td>\n",
       "      <td>NaN</td>\n",
       "      <td>NaN</td>\n",
       "      <td>NaN</td>\n",
       "      <td>NaN</td>\n",
       "      <td>15</td>\n",
       "      <td>144</td>\n",
       "      <td>4485</td>\n",
       "      <td>23</td>\n",
       "      <td>12</td>\n",
       "      <td>11</td>\n",
       "    </tr>\n",
       "  </tbody>\n",
       "</table>\n",
       "<p>4 rows × 54 columns</p>\n",
       "</div>"
      ],
      "text/plain": [
       "     customerid account_status  customer_name customer_type  value  \\\n",
       "167        1490       Inactive            569           Two  10500   \n",
       "168        1490       Inactive            569           Two  10500   \n",
       "169        1490       Inactive            569           Two  10500   \n",
       "170        1490       Inactive            569           Two  10500   \n",
       "\n",
       "     year_of_current_deal  year    0      1    2  ...  37  38  39  40  \\\n",
       "167                     1     1    1  114.0    0  ... NaN NaN NaN NaN   \n",
       "168                     1     1  144  457.0  473  ... NaN NaN NaN NaN   \n",
       "169                     1     1    1  114.0    0  ... NaN NaN NaN NaN   \n",
       "170                     1     1  144  457.0  473  ... NaN NaN NaN NaN   \n",
       "\n",
       "     Duration  First month usage  Total Logins  Number of Users  \\\n",
       "167         2                  1           115               23   \n",
       "168        15                144          4485               23   \n",
       "169         2                  1           115               23   \n",
       "170        15                144          4485               23   \n",
       "\n",
       "     Number of Active Users  Difference in total users and active  \n",
       "167                      12                                    11  \n",
       "168                      12                                    11  \n",
       "169                      12                                    11  \n",
       "170                      12                                    11  \n",
       "\n",
       "[4 rows x 54 columns]"
      ]
     },
     "execution_count": 8,
     "metadata": {},
     "output_type": "execute_result"
    }
   ],
   "source": [
    "# locating the rows of the duplicate accounts and checking both rows have the same information before deleting one\n",
    "\n",
    "duplicate_name = renewals_usage.customer_name == 569\n",
    "renewals_usage[duplicate_name]"
   ]
  },
  {
   "cell_type": "code",
   "execution_count": 9,
   "metadata": {},
   "outputs": [
    {
     "data": {
      "text/html": [
       "<div>\n",
       "<style scoped>\n",
       "    .dataframe tbody tr th:only-of-type {\n",
       "        vertical-align: middle;\n",
       "    }\n",
       "\n",
       "    .dataframe tbody tr th {\n",
       "        vertical-align: top;\n",
       "    }\n",
       "\n",
       "    .dataframe thead th {\n",
       "        text-align: right;\n",
       "    }\n",
       "</style>\n",
       "<table border=\"1\" class=\"dataframe\">\n",
       "  <thead>\n",
       "    <tr style=\"text-align: right;\">\n",
       "      <th></th>\n",
       "      <th>customerid</th>\n",
       "      <th>account_status</th>\n",
       "      <th>customer_name</th>\n",
       "      <th>customer_type</th>\n",
       "      <th>value</th>\n",
       "      <th>year_of_current_deal</th>\n",
       "      <th>year</th>\n",
       "      <th>0</th>\n",
       "      <th>1</th>\n",
       "      <th>2</th>\n",
       "      <th>...</th>\n",
       "      <th>37</th>\n",
       "      <th>38</th>\n",
       "      <th>39</th>\n",
       "      <th>40</th>\n",
       "      <th>Duration</th>\n",
       "      <th>First month usage</th>\n",
       "      <th>Total Logins</th>\n",
       "      <th>Number of Users</th>\n",
       "      <th>Number of Active Users</th>\n",
       "      <th>Difference in total users and active</th>\n",
       "    </tr>\n",
       "  </thead>\n",
       "  <tbody>\n",
       "    <tr>\n",
       "      <th>336</th>\n",
       "      <td>286</td>\n",
       "      <td>Inactive</td>\n",
       "      <td>21</td>\n",
       "      <td>Two</td>\n",
       "      <td>4800</td>\n",
       "      <td>1</td>\n",
       "      <td>1</td>\n",
       "      <td>71</td>\n",
       "      <td>16.0</td>\n",
       "      <td>66</td>\n",
       "      <td>...</td>\n",
       "      <td>NaN</td>\n",
       "      <td>NaN</td>\n",
       "      <td>NaN</td>\n",
       "      <td>NaN</td>\n",
       "      <td>8</td>\n",
       "      <td>71</td>\n",
       "      <td>302</td>\n",
       "      <td>16</td>\n",
       "      <td>10</td>\n",
       "      <td>6</td>\n",
       "    </tr>\n",
       "    <tr>\n",
       "      <th>337</th>\n",
       "      <td>286</td>\n",
       "      <td>Inactive</td>\n",
       "      <td>21</td>\n",
       "      <td>Two</td>\n",
       "      <td>4800</td>\n",
       "      <td>1</td>\n",
       "      <td>1</td>\n",
       "      <td>52</td>\n",
       "      <td>12.0</td>\n",
       "      <td>35</td>\n",
       "      <td>...</td>\n",
       "      <td>NaN</td>\n",
       "      <td>NaN</td>\n",
       "      <td>NaN</td>\n",
       "      <td>NaN</td>\n",
       "      <td>32</td>\n",
       "      <td>52</td>\n",
       "      <td>725</td>\n",
       "      <td>16</td>\n",
       "      <td>10</td>\n",
       "      <td>6</td>\n",
       "    </tr>\n",
       "  </tbody>\n",
       "</table>\n",
       "<p>2 rows × 54 columns</p>\n",
       "</div>"
      ],
      "text/plain": [
       "     customerid account_status  customer_name customer_type  value  \\\n",
       "336         286       Inactive             21           Two   4800   \n",
       "337         286       Inactive             21           Two   4800   \n",
       "\n",
       "     year_of_current_deal  year   0     1   2  ...  37  38  39  40  Duration  \\\n",
       "336                     1     1  71  16.0  66  ... NaN NaN NaN NaN         8   \n",
       "337                     1     1  52  12.0  35  ... NaN NaN NaN NaN        32   \n",
       "\n",
       "     First month usage  Total Logins  Number of Users  Number of Active Users  \\\n",
       "336                 71           302               16                      10   \n",
       "337                 52           725               16                      10   \n",
       "\n",
       "     Difference in total users and active  \n",
       "336                                     6  \n",
       "337                                     6  \n",
       "\n",
       "[2 rows x 54 columns]"
      ]
     },
     "execution_count": 9,
     "metadata": {},
     "output_type": "execute_result"
    }
   ],
   "source": [
    "duplicate_name = renewals_usage.customer_name == 21\n",
    "renewals_usage[duplicate_name]"
   ]
  },
  {
   "cell_type": "code",
   "execution_count": 10,
   "metadata": {},
   "outputs": [],
   "source": [
    "# deleting the one duplicate row where the cancellation reason is unknown\n",
    "\n",
    "renewals_usage.drop(renewals.index[167], inplace = True)\n",
    "renewals_usage.drop(renewals.index[168], inplace = True)\n",
    "renewals_usage.drop(renewals.index[169], inplace = True)\n",
    "renewals_usage.drop(renewals.index[336], inplace = True)\n"
   ]
  },
  {
   "cell_type": "code",
   "execution_count": 11,
   "metadata": {},
   "outputs": [
    {
     "data": {
      "text/plain": [
       "customerid                                int64\n",
       "account_status                           object\n",
       "customer_name                             int64\n",
       "customer_type                            object\n",
       "value                                     int64\n",
       "year_of_current_deal                      int64\n",
       "year                                      int64\n",
       "0                                         int64\n",
       "1                                       float64\n",
       "2                                         int64\n",
       "3                                       float64\n",
       "4                                       float64\n",
       "5                                       float64\n",
       "6                                       float64\n",
       "7                                       float64\n",
       "8                                       float64\n",
       "9                                       float64\n",
       "10                                      float64\n",
       "11                                      float64\n",
       "12                                      float64\n",
       "13                                      float64\n",
       "14                                      float64\n",
       "15                                      float64\n",
       "16                                      float64\n",
       "17                                      float64\n",
       "18                                      float64\n",
       "19                                      float64\n",
       "20                                      float64\n",
       "21                                      float64\n",
       "22                                      float64\n",
       "23                                      float64\n",
       "24                                      float64\n",
       "25                                      float64\n",
       "26                                      float64\n",
       "27                                      float64\n",
       "28                                      float64\n",
       "29                                      float64\n",
       "30                                      float64\n",
       "31                                      float64\n",
       "32                                      float64\n",
       "33                                      float64\n",
       "34                                      float64\n",
       "35                                      float64\n",
       "36                                      float64\n",
       "37                                      float64\n",
       "38                                      float64\n",
       "39                                      float64\n",
       "40                                      float64\n",
       "Duration                                  int64\n",
       "First month usage                         int64\n",
       "Total Logins                              int64\n",
       "Number of Users                           int64\n",
       "Number of Active Users                    int64\n",
       "Difference in total users and active      int64\n",
       "dtype: object"
      ]
     },
     "execution_count": 11,
     "metadata": {},
     "output_type": "execute_result"
    }
   ],
   "source": [
    "# checking the format of the variables\n",
    "\n",
    "renewals_usage.dtypes"
   ]
  },
  {
   "cell_type": "code",
   "execution_count": 12,
   "metadata": {},
   "outputs": [],
   "source": [
    "# mapping the active and inactive customers to either 1 or 0\n",
    "\n",
    "renewals_usage['account_status_map'] = renewals_usage.account_status.map({'Inactive':0, 'Active':1})"
   ]
  },
  {
   "cell_type": "code",
   "execution_count": 13,
   "metadata": {},
   "outputs": [
    {
     "data": {
      "text/plain": [
       "Active      889\n",
       "Inactive    241\n",
       "Name: account_status, dtype: int64"
      ]
     },
     "execution_count": 13,
     "metadata": {},
     "output_type": "execute_result"
    }
   ],
   "source": [
    "# number of active and inactive customers in the dataset\n",
    "\n",
    "renewals_usage.account_status.value_counts()"
   ]
  },
  {
   "cell_type": "code",
   "execution_count": 14,
   "metadata": {},
   "outputs": [],
   "source": [
    "# dropping the account status column now we have mapped in a new column\n",
    "\n",
    "renewals_usage.drop(columns=['account_status'],\n",
    "              inplace=True)"
   ]
  },
  {
   "cell_type": "markdown",
   "metadata": {},
   "source": [
    "# 4. Survival Analysis"
   ]
  },
  {
   "cell_type": "markdown",
   "metadata": {},
   "source": [
    "Below is a plot of a subset of the data to illustrate the aim of this analysis, each line represents the duration of a customer where blue lines are live customers and red are cancelled. The live customers have not cancelled and so they are our right censored group; we do not know how their life span will be before they may cancel. The following analysis we do will be to estimate the life span of our right censored customers, to help us predict when customers will churn. "
   ]
  },
  {
   "cell_type": "code",
   "execution_count": 16,
   "metadata": {},
   "outputs": [
    {
     "data": {
      "image/png": "[encoded data removed]",
      "text/plain": [
       "<Figure size 432x288 with 1 Axes>"
      ]
     },
     "metadata": {
      "needs_background": "light"
     },
     "output_type": "display_data"
    }
   ],
   "source": [
    "N=41\n",
    "\n",
    "CURRENT_TIME = 10\n",
    "\n",
    "renewals_sample = renewals_usage[:-1109] #slicing the data to get a smaller subset\n",
    "\n",
    "ax = plot_lifetimes(renewals_sample['Duration'], event_observed=renewals_sample['account_status_map'] == 0, figsize = (20,50))\n",
    "ax.set_xlim(0, 50)\n",
    "ax.vlines(21, 0, 50, lw=2, linestyles='--')\n",
    "ax.set_xlabel('Duration in Months')\n",
    "ax.set_title('Live and Cancelled Customers at t', fontsize = 20);"
   ]
  },
  {
   "cell_type": "markdown",
   "metadata": {},
   "source": [
    "We can fit the KaplanMeier to give a survival curve to display the estimated probability of the customer's survival (live subscription) over time. The curve shows there is an 80% chance a customer's subscription lasts for approximately 9 months and a 40% chance they last for around 25 months. Finally there is a 20% chance a customer's subscription will last for 40 months."
   ]
  },
  {
   "cell_type": "code",
   "execution_count": 17,
   "metadata": {},
   "outputs": [
    {
     "data": {
      "image/png": "[encoded data removed]",
      "text/plain": [
       "<Figure size 1584x720 with 1 Axes>"
      ]
     },
     "metadata": {
      "needs_background": "light"
     },
     "output_type": "display_data"
    }
   ],
   "source": [
    "kmf = KaplanMeierFitter()\n",
    "\n",
    "data = renewals_usage\n",
    "duration = data[\"Duration\"] # time variable\n",
    "event = data[\"account_status_map\"] # event observed\n",
    "\n",
    "kmf.fit(duration, event_observed=event,label='Kaplan Meier Estimate')\n",
    "\n",
    "kmf.plot(figsize = (22,10))\n",
    "plt.title('Survival function of Subscription', fontsize=20);"
   ]
  },
  {
   "cell_type": "markdown",
   "metadata": {},
   "source": [
    "Fitting the KaplanMeier for a second time, we can get more granular; this time to display the estimated probability of the customer's survival (live subscription) over time based on the customer type. Here we can see that for the first year the probability of survival is the same irrespective of customer type. However, at the beginning of year 2 we can see a gap starting to appear whereby customer type 'Three's are expected to survive longer at any given probability value. For example, there is a 40% chance that 'One's and 'Two's survive to 24 months, compared to the 27 months for 'Three's. "
   ]
  },
  {
   "cell_type": "code",
   "execution_count": 18,
   "metadata": {},
   "outputs": [
    {
     "data": {
      "image/png": "[encoded data removed]",
      "text/plain": [
       "<Figure size 1584x720 with 1 Axes>"
      ]
     },
     "metadata": {
      "needs_background": "light"
     },
     "output_type": "display_data"
    }
   ],
   "source": [
    "kmf1 = KaplanMeierFitter() ## instantiate the class to create an object\n",
    "\n",
    "# 3 customer types are compared. \n",
    "groups = renewals_usage['customer_type']   \n",
    "i1 = (groups == 'Three')      \n",
    "i2 = (groups == 'One')  \n",
    "i3 = (groups == 'Two') \n",
    "\n",
    "\n",
    "# fit the model for first type\n",
    "kmf1.fit(duration[i1], event[i1], label='Three')\n",
    "a1 = kmf1.plot(ci_show=False, figsize = (22,10), color='b') # not plotting the confidence level lines because makes the graph\n",
    "                                                            # harder to read\n",
    "\n",
    "# fit the model for second type\n",
    "kmf1.fit(duration[i2], event[i2], label='One')\n",
    "kmf1.plot(ax=a1, ci_show=False, color='r')\n",
    "\n",
    "# fit the model for third type\n",
    "kmf1.fit(duration[i3], event[i3], label='Two')\n",
    "kmf1.plot(ax=a1, ci_show=False, color='g')\n",
    "\n",
    "plt.title('Survival function of Subscription per Customer Type', fontsize=20);\n",
    "plt.xlabel('Duration in Months', fontsize = 14);\n",
    "plt.ylabel('Probabiity of Survival', fontsize = 14);"
   ]
  },
  {
   "cell_type": "code",
   "execution_count": 19,
   "metadata": {},
   "outputs": [],
   "source": [
    "# Creating a subset of data to just include the variables for the next plot\n",
    "\n",
    "renewals_usage_two= renewals_usage.loc[:,[\n",
    "       'account_status_map','Duration','Total Logins',\n",
    "       'Number of Active Users','value','First month usage','Difference in total users and active']]\n"
   ]
  },
  {
   "cell_type": "code",
   "execution_count": 20,
   "metadata": {},
   "outputs": [
    {
     "data": {
      "text/plain": [
       "(1130, 7)"
      ]
     },
     "execution_count": 20,
     "metadata": {},
     "output_type": "execute_result"
    }
   ],
   "source": [
    "renewals_usage_two.shape"
   ]
  },
  {
   "cell_type": "code",
   "execution_count": 21,
   "metadata": {},
   "outputs": [
    {
     "data": {
      "text/plain": [
       "account_status_map                      0\n",
       "Duration                                0\n",
       "Total Logins                            0\n",
       "Number of Active Users                  0\n",
       "value                                   0\n",
       "First month usage                       0\n",
       "Difference in total users and active    0\n",
       "dtype: int64"
      ]
     },
     "execution_count": 21,
     "metadata": {},
     "output_type": "execute_result"
    }
   ],
   "source": [
    "renewals_usage_two.isnull().sum()"
   ]
  },
  {
   "cell_type": "code",
   "execution_count": 22,
   "metadata": {},
   "outputs": [
    {
     "data": {
      "text/html": [
       "<div>\n",
       "<style scoped>\n",
       "    .dataframe tbody tr th:only-of-type {\n",
       "        vertical-align: middle;\n",
       "    }\n",
       "\n",
       "    .dataframe tbody tr th {\n",
       "        vertical-align: top;\n",
       "    }\n",
       "\n",
       "    .dataframe thead th {\n",
       "        text-align: right;\n",
       "    }\n",
       "</style>\n",
       "<table border=\"1\" class=\"dataframe\">\n",
       "  <thead>\n",
       "    <tr style=\"text-align: right;\">\n",
       "      <th></th>\n",
       "      <th>account_status_map</th>\n",
       "      <th>Duration</th>\n",
       "      <th>Total Logins</th>\n",
       "      <th>Number of Active Users</th>\n",
       "      <th>value</th>\n",
       "      <th>First month usage</th>\n",
       "      <th>Difference in total users and active</th>\n",
       "    </tr>\n",
       "  </thead>\n",
       "  <tbody>\n",
       "    <tr>\n",
       "      <th>0</th>\n",
       "      <td>0</td>\n",
       "      <td>16</td>\n",
       "      <td>339</td>\n",
       "      <td>1</td>\n",
       "      <td>4950</td>\n",
       "      <td>30</td>\n",
       "      <td>2</td>\n",
       "    </tr>\n",
       "    <tr>\n",
       "      <th>1</th>\n",
       "      <td>1</td>\n",
       "      <td>39</td>\n",
       "      <td>241</td>\n",
       "      <td>7</td>\n",
       "      <td>5030</td>\n",
       "      <td>10</td>\n",
       "      <td>0</td>\n",
       "    </tr>\n",
       "    <tr>\n",
       "      <th>2</th>\n",
       "      <td>1</td>\n",
       "      <td>13</td>\n",
       "      <td>495</td>\n",
       "      <td>10</td>\n",
       "      <td>5500</td>\n",
       "      <td>37</td>\n",
       "      <td>4</td>\n",
       "    </tr>\n",
       "    <tr>\n",
       "      <th>3</th>\n",
       "      <td>1</td>\n",
       "      <td>24</td>\n",
       "      <td>347</td>\n",
       "      <td>7</td>\n",
       "      <td>4950</td>\n",
       "      <td>12</td>\n",
       "      <td>0</td>\n",
       "    </tr>\n",
       "    <tr>\n",
       "      <th>4</th>\n",
       "      <td>1</td>\n",
       "      <td>6</td>\n",
       "      <td>577</td>\n",
       "      <td>6</td>\n",
       "      <td>6050</td>\n",
       "      <td>97</td>\n",
       "      <td>0</td>\n",
       "    </tr>\n",
       "  </tbody>\n",
       "</table>\n",
       "</div>"
      ],
      "text/plain": [
       "   account_status_map  Duration  Total Logins  Number of Active Users  value  \\\n",
       "0                   0        16           339                       1   4950   \n",
       "1                   1        39           241                       7   5030   \n",
       "2                   1        13           495                      10   5500   \n",
       "3                   1        24           347                       7   4950   \n",
       "4                   1         6           577                       6   6050   \n",
       "\n",
       "   First month usage  Difference in total users and active  \n",
       "0                 30                                     2  \n",
       "1                 10                                     0  \n",
       "2                 37                                     4  \n",
       "3                 12                                     0  \n",
       "4                 97                                     0  "
      ]
     },
     "execution_count": 22,
     "metadata": {},
     "output_type": "execute_result"
    }
   ],
   "source": [
    "renewals_usage_two.head()"
   ]
  },
  {
   "cell_type": "markdown",
   "metadata": {},
   "source": [
    "The Hazard Function is defined as the probability that the subject will experience an event of interest within a time interval. We can use the Cox Proportional Hazard Model to show the impact of the covariates on the survival curve. "
   ]
  },
  {
   "cell_type": "code",
   "execution_count": 23,
   "metadata": {},
   "outputs": [
    {
     "data": {
      "text/html": [
       "<div>\n",
       "<style scoped>\n",
       "    .dataframe tbody tr th:only-of-type {\n",
       "        vertical-align: middle;\n",
       "    }\n",
       "\n",
       "    .dataframe tbody tr th {\n",
       "        vertical-align: top;\n",
       "    }\n",
       "\n",
       "    .dataframe thead th {\n",
       "        text-align: right;\n",
       "    }\n",
       "</style>\n",
       "<table border=\"1\" class=\"dataframe\">\n",
       "  <tbody>\n",
       "    <tr>\n",
       "      <th>model</th>\n",
       "      <td>lifelines.CoxPHFitter</td>\n",
       "    </tr>\n",
       "    <tr>\n",
       "      <th>duration col</th>\n",
       "      <td>'Duration'</td>\n",
       "    </tr>\n",
       "    <tr>\n",
       "      <th>event col</th>\n",
       "      <td>'account_status_map'</td>\n",
       "    </tr>\n",
       "    <tr>\n",
       "      <th>baseline estimation</th>\n",
       "      <td>breslow</td>\n",
       "    </tr>\n",
       "    <tr>\n",
       "      <th>number of observations</th>\n",
       "      <td>1130</td>\n",
       "    </tr>\n",
       "    <tr>\n",
       "      <th>number of events observed</th>\n",
       "      <td>889</td>\n",
       "    </tr>\n",
       "    <tr>\n",
       "      <th>partial log-likelihood</th>\n",
       "      <td>-5268.20</td>\n",
       "    </tr>\n",
       "    <tr>\n",
       "      <th>time fit was run</th>\n",
       "      <td>2021-07-19 14:21:00 UTC</td>\n",
       "    </tr>\n",
       "  </tbody>\n",
       "</table>\n",
       "</div><table border=\"1\" class=\"dataframe\">\n",
       "  <thead>\n",
       "    <tr style=\"text-align: right;\">\n",
       "      <th style=\"min-width: 12px;\"></th>\n",
       "      <th style=\"min-width: 12px;\">coef</th>\n",
       "      <th style=\"min-width: 12px;\">exp(coef)</th>\n",
       "      <th style=\"min-width: 12px;\">se(coef)</th>\n",
       "      <th style=\"min-width: 12px;\">coef lower 95%</th>\n",
       "      <th style=\"min-width: 12px;\">coef upper 95%</th>\n",
       "      <th style=\"min-width: 12px;\">exp(coef) lower 95%</th>\n",
       "      <th style=\"min-width: 12px;\">exp(coef) upper 95%</th>\n",
       "      <th style=\"min-width: 12px;\">z</th>\n",
       "      <th style=\"min-width: 12px;\">p</th>\n",
       "      <th style=\"min-width: 12px;\">-log2(p)</th>\n",
       "    </tr>\n",
       "  </thead>\n",
       "  <tbody>\n",
       "    <tr>\n",
       "      <th>Total Logins</th>\n",
       "      <td>-0.00</td>\n",
       "      <td>1.00</td>\n",
       "      <td>0.00</td>\n",
       "      <td>-0.00</td>\n",
       "      <td>-0.00</td>\n",
       "      <td>1.00</td>\n",
       "      <td>1.00</td>\n",
       "      <td>-6.62</td>\n",
       "      <td>&lt;0.005</td>\n",
       "      <td>34.71</td>\n",
       "    </tr>\n",
       "    <tr>\n",
       "      <th>Number of Active Users</th>\n",
       "      <td>0.01</td>\n",
       "      <td>1.01</td>\n",
       "      <td>0.00</td>\n",
       "      <td>0.00</td>\n",
       "      <td>0.02</td>\n",
       "      <td>1.00</td>\n",
       "      <td>1.02</td>\n",
       "      <td>2.76</td>\n",
       "      <td>0.01</td>\n",
       "      <td>7.45</td>\n",
       "    </tr>\n",
       "    <tr>\n",
       "      <th>value</th>\n",
       "      <td>0.00</td>\n",
       "      <td>1.00</td>\n",
       "      <td>0.00</td>\n",
       "      <td>-0.00</td>\n",
       "      <td>0.00</td>\n",
       "      <td>1.00</td>\n",
       "      <td>1.00</td>\n",
       "      <td>0.64</td>\n",
       "      <td>0.52</td>\n",
       "      <td>0.94</td>\n",
       "    </tr>\n",
       "    <tr>\n",
       "      <th>First month usage</th>\n",
       "      <td>0.00</td>\n",
       "      <td>1.00</td>\n",
       "      <td>0.00</td>\n",
       "      <td>0.00</td>\n",
       "      <td>0.00</td>\n",
       "      <td>1.00</td>\n",
       "      <td>1.00</td>\n",
       "      <td>3.76</td>\n",
       "      <td>&lt;0.005</td>\n",
       "      <td>12.50</td>\n",
       "    </tr>\n",
       "    <tr>\n",
       "      <th>Difference in total users and active</th>\n",
       "      <td>-0.00</td>\n",
       "      <td>1.00</td>\n",
       "      <td>0.01</td>\n",
       "      <td>-0.02</td>\n",
       "      <td>0.01</td>\n",
       "      <td>0.99</td>\n",
       "      <td>1.01</td>\n",
       "      <td>-0.04</td>\n",
       "      <td>0.97</td>\n",
       "      <td>0.04</td>\n",
       "    </tr>\n",
       "  </tbody>\n",
       "</table><br><div>\n",
       "<style scoped>\n",
       "    .dataframe tbody tr th:only-of-type {\n",
       "        vertical-align: middle;\n",
       "    }\n",
       "\n",
       "    .dataframe tbody tr th {\n",
       "        vertical-align: top;\n",
       "    }\n",
       "\n",
       "    .dataframe thead th {\n",
       "        text-align: right;\n",
       "    }\n",
       "</style>\n",
       "<table border=\"1\" class=\"dataframe\">\n",
       "  <tbody>\n",
       "    <tr>\n",
       "      <th>Concordance</th>\n",
       "      <td>0.67</td>\n",
       "    </tr>\n",
       "    <tr>\n",
       "      <th>Partial AIC</th>\n",
       "      <td>10546.41</td>\n",
       "    </tr>\n",
       "    <tr>\n",
       "      <th>log-likelihood ratio test</th>\n",
       "      <td>65.50 on 5 df</td>\n",
       "    </tr>\n",
       "    <tr>\n",
       "      <th>-log2(p) of ll-ratio test</th>\n",
       "      <td>40.04</td>\n",
       "    </tr>\n",
       "  </tbody>\n",
       "</table>\n",
       "</div>"
      ],
      "text/latex": [
       "\\begin{tabular}{lrrrrrrrrrr}\n",
       "\\toprule\n",
       "{} &  coef &  exp(coef) &  se(coef) &  coef lower 95\\% &  coef upper 95\\% &  exp(coef) lower 95\\% &  exp(coef) upper 95\\% &     z &    p &  -log2(p) \\\\\n",
       "covariate                            &       &            &           &                 &                 &                      &                      &       &      &           \\\\\n",
       "\\midrule\n",
       "Total Logins                         & -0.00 &       1.00 &      0.00 &           -0.00 &           -0.00 &                 1.00 &                 1.00 & -6.62 & 0.00 &     34.71 \\\\\n",
       "Number of Active Users               &  0.01 &       1.01 &      0.00 &            0.00 &            0.02 &                 1.00 &                 1.02 &  2.76 & 0.01 &      7.45 \\\\\n",
       "value                                &  0.00 &       1.00 &      0.00 &           -0.00 &            0.00 &                 1.00 &                 1.00 &  0.64 & 0.52 &      0.94 \\\\\n",
       "First month usage                    &  0.00 &       1.00 &      0.00 &            0.00 &            0.00 &                 1.00 &                 1.00 &  3.76 & 0.00 &     12.50 \\\\\n",
       "Difference in total users and active & -0.00 &       1.00 &      0.01 &           -0.02 &            0.01 &                 0.99 &                 1.01 & -0.04 & 0.97 &      0.04 \\\\\n",
       "\\bottomrule\n",
       "\\end{tabular}\n"
      ],
      "text/plain": [
       "<lifelines.CoxPHFitter: fitted with 1130 total observations, 241 right-censored observations>\n",
       "             duration col = 'Duration'\n",
       "                event col = 'account_status_map'\n",
       "      baseline estimation = breslow\n",
       "   number of observations = 1130\n",
       "number of events observed = 889\n",
       "   partial log-likelihood = -5268.20\n",
       "         time fit was run = 2021-07-19 14:21:00 UTC\n",
       "\n",
       "---\n",
       "                                       coef  exp(coef)   se(coef)   coef lower 95%   coef upper 95%  exp(coef) lower 95%  exp(coef) upper 95%\n",
       "covariate                                                                                                                                    \n",
       "Total Logins                          -0.00       1.00       0.00            -0.00            -0.00                 1.00                 1.00\n",
       "Number of Active Users                 0.01       1.01       0.00             0.00             0.02                 1.00                 1.02\n",
       "value                                  0.00       1.00       0.00            -0.00             0.00                 1.00                 1.00\n",
       "First month usage                      0.00       1.00       0.00             0.00             0.00                 1.00                 1.00\n",
       "Difference in total users and active  -0.00       1.00       0.01            -0.02             0.01                 0.99                 1.01\n",
       "\n",
       "                                         z      p   -log2(p)\n",
       "covariate                                                   \n",
       "Total Logins                         -6.62 <0.005      34.71\n",
       "Number of Active Users                2.76   0.01       7.45\n",
       "value                                 0.64   0.52       0.94\n",
       "First month usage                     3.76 <0.005      12.50\n",
       "Difference in total users and active -0.04   0.97       0.04\n",
       "---\n",
       "Concordance = 0.67\n",
       "Partial AIC = 10546.41\n",
       "log-likelihood ratio test = 65.50 on 5 df\n",
       "-log2(p) of ll-ratio test = 40.04"
      ]
     },
     "metadata": {},
     "output_type": "display_data"
    }
   ],
   "source": [
    "# fitting the regression\n",
    "\n",
    "cph = CoxPHFitter().fit(renewals_usage_two, 'Duration', event_col = 'account_status_map')\n",
    "\n",
    "cph.print_summary()"
   ]
  },
  {
   "cell_type": "markdown",
   "metadata": {},
   "source": [
    "When considering the coefficients (0.01) in the summary below it looks as though only 'Number of Active Users' is the only variable that contribute to predicting the surivival curve. Let's plot them to look closer."
   ]
  },
  {
   "cell_type": "code",
   "execution_count": 24,
   "metadata": {},
   "outputs": [
    {
     "data": {
      "image/png": "[encoded data removed]",
      "text/plain": [
       "<Figure size 432x288 with 1 Axes>"
      ]
     },
     "metadata": {
      "needs_background": "light"
     },
     "output_type": "display_data"
    }
   ],
   "source": [
    "# plotting the coefficients and their ranges\n",
    "\n",
    "p=cph.plot();\n",
    "plt.ylabel('Variables', fontsize = 14);\n",
    "plt.tight_layout() \n",
    "\n",
    "plt.suptitle('Cox Proportional Hazard Model', fontsize=14);\n",
    "plt.subplots_adjust(top=0.8)\n"
   ]
  },
  {
   "cell_type": "markdown",
   "metadata": {},
   "source": [
    "The graph above indicates that 'Number of Active Users' has the greatest positive impact in predicting the churn risk. The first month of logins also has a positive impact but it is smaller, hence the coefficient above is (0.00). The 'Difference in total users and active' has the largest impact on predicting the survival function, however this can be both negative and positive depending on the value. 'Total Logins' and 'value' look to have no impact on the curve. "
   ]
  },
  {
   "cell_type": "markdown",
   "metadata": {},
   "source": [
    "The baseline hazard shows the inverse of the survival probabality plot as it shows the probability that a customer cancels in that month. "
   ]
  },
  {
   "cell_type": "code",
   "execution_count": 25,
   "metadata": {},
   "outputs": [
    {
     "data": {
      "image/png": "[encoded data removed]",
      "text/plain": [
       "<Figure size 432x288 with 1 Axes>"
      ]
     },
     "metadata": {
      "needs_background": "light"
     },
     "output_type": "display_data"
    }
   ],
   "source": [
    "cph.baseline_hazard_.plot();"
   ]
  },
  {
   "cell_type": "markdown",
   "metadata": {},
   "source": [
    "We can see overall the baseline hazard is consistently low, and at most only 0.1 for some durations. For example, a small spike at 24 months."
   ]
  },
  {
   "cell_type": "markdown",
   "metadata": {},
   "source": [
    "We would expect that as the total number of logins for an account increases the probablity that they will survive for longer increases. Let's plot the survival function for different values of total logins to see. "
   ]
  },
  {
   "cell_type": "code",
   "execution_count": 34,
   "metadata": {},
   "outputs": [
    {
     "data": {
      "image/png": "[encoded data removed]",
      "text/plain": [
       "<Figure size 1008x432 with 1 Axes>"
      ]
     },
     "metadata": {
      "needs_background": "light"
     },
     "output_type": "display_data"
    }
   ],
   "source": [
    "cph.plot_partial_effects_on_outcome(covariates='Total Logins', values=[58,500,775,1455,20039], figsize=(14,6), \n",
    "                                    cmap='coolwarm')\n",
    "plt.title('Survival function based on Total Logins', fontsize=20);\n",
    "plt.xlabel('Duration in Months', fontsize = 14);\n",
    "plt.ylabel('Probabiity of Survival', fontsize = 14);"
   ]
  },
  {
   "cell_type": "markdown",
   "metadata": {},
   "source": [
    "On first glance it looks as though there are high outliers in the total logins data, shown by a nearly 100% probablity of survival if the total logins are around 20,039. We can see that for total logins around 58 the survival probablity is just below the baseline, and 500 is just on the baseline. However, at 775 the probablity of survival is slightly higher. Therefore, if we want to increase the probablity of survival above the baseline we need to push for total logins of greater than 500."
   ]
  },
  {
   "cell_type": "markdown",
   "metadata": {},
   "source": [
    "# 5. Conclusion"
   ]
  },
  {
   "cell_type": "markdown",
   "metadata": {},
   "source": [
    "We have shown that there is an 80% chance that a customer's subscription lasts for approximately 9 months and a 40% chance they last for around 25 months. And that at the beginning of year 2 we can see a gap starting to appear whereby customer type 'Three's are expected to survive longer at any given probability value. 'Number of Active Users' has the greatest positive impact in predicting the churn risk and total logins of 500 increases the probablity of survival above the baseline.\n",
    "\n",
    "Therefore, we should drive engagement through number of active users and total logins in the first 9 months to increase the chances of survival. In addition, we can decide our strategy based on what we know our largest risks to cashflow are; whether that be focusing on increasing the probablity of survival for customer type 'Three's because they are of highest value or because 'Two's and 'One's have a lower probabalitiy of surivival at any given time past 12 months.\n",
    "\n",
    "Next steps in going further to answer the problem I posed will be to;\n",
    "\n",
    "1) explore the lifeline documentation more.\n",
    "\n",
    "2) drill down into other data points available. \n",
    "- we could use the percentage of inactive users of the total to make comparisons between small and larger businesses. \n",
    "- looking into attendence of our webinar events. \n",
    "- time spent negotiating the contract may be an interesting data point to introduce; are accounts that go through more approval processes, spent longer reviewing pricing and t&cs more likely to have done their research on competitors, and so are more confident in their need for us and less likely to cancel? This is a stat we would have on day 1 of subscription and so may offer more complexity to the models. \n",
    "\n",
    "3) be able to highlight a series of red flags to the accounts, marketing and finance teams whereby a particular account is at risk of cancelling given the probability. This will enable account managers to call/ arrange extra training sessions, the marketing team to send targeted content to sectors, customer types in varying degrees of pushiness depending on the risk denoted by the survival probablity, both to encourage engagement and drive up the survival curve. And finally to the finance team to review the confidence weighting of receiving payment for particular accounts, types or at different durations into subscription to improve the accuracy of forecasting cashflow."
   ]
  }
 ],
 "metadata": {
  "kernelspec": {
   "display_name": "Python 3",
   "language": "python",
   "name": "python3"
  },
  "language_info": {
   "codemirror_mode": {
    "name": "ipython",
    "version": 3
   },
   "file_extension": ".py",
   "mimetype": "text/x-python",
   "name": "python",
   "nbconvert_exporter": "python",
   "pygments_lexer": "ipython3",
   "version": "3.8.3"
  }
 },
 "nbformat": 4,
 "nbformat_minor": 4
}
