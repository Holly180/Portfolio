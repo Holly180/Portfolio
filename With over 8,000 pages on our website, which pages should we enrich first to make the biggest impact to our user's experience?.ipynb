{
 "cells": [
  {
   "cell_type": "markdown",
   "metadata": {},
   "source": [
    "# With over 8,000 UK pages on our website, which pages should we enrich first to make the biggest impact to our user's experience?"
   ]
  },
  {
   "cell_type": "markdown",
   "metadata": {},
   "source": [
    "My CEO wanted to know with over 8,000 pages on our website, which pages should we focus on enriching first to make the biggest impact to our users? Below is the data exploration, feature engineering and visualisations I created to present my recommendations and insights.\n",
    "\n",
    "\n",
    "Please note that all data has been anonymised."
   ]
  },
  {
   "cell_type": "markdown",
   "metadata": {},
   "source": [
    "# 1. Import Libaries"
   ]
  },
  {
   "cell_type": "markdown",
   "metadata": {},
   "source": [
    "Below we are importing all the Python libraries we will need for this project."
   ]
  },
  {
   "cell_type": "code",
   "execution_count": 1,
   "metadata": {},
   "outputs": [],
   "source": [
    "import pandas as pd\n",
    "import numpy as np\n",
    "import seaborn as sns\n",
    "import matplotlib.pyplot as plt\n",
    "\n",
    "plt.style.use('fivethirtyeight')\n",
    "%matplotlib inline"
   ]
  },
  {
   "cell_type": "markdown",
   "metadata": {},
   "source": [
    "# 2. Import Data"
   ]
  },
  {
   "cell_type": "markdown",
   "metadata": {},
   "source": [
    "Here we are importing the dataset."
   ]
  },
  {
   "cell_type": "code",
   "execution_count": 2,
   "metadata": {},
   "outputs": [],
   "source": [
    "hits = pd.read_csv('~/Documents/portfolio/datasets/hits.csv') # Reading in the csv"
   ]
  },
  {
   "cell_type": "code",
   "execution_count": 3,
   "metadata": {},
   "outputs": [
    {
     "data": {
      "text/html": [
       "<div>\n",
       "<style scoped>\n",
       "    .dataframe tbody tr th:only-of-type {\n",
       "        vertical-align: middle;\n",
       "    }\n",
       "\n",
       "    .dataframe tbody tr th {\n",
       "        vertical-align: top;\n",
       "    }\n",
       "\n",
       "    .dataframe thead th {\n",
       "        text-align: right;\n",
       "    }\n",
       "</style>\n",
       "<table border=\"1\" class=\"dataframe\">\n",
       "  <thead>\n",
       "    <tr style=\"text-align: right;\">\n",
       "      <th></th>\n",
       "      <th>hits</th>\n",
       "      <th>Page Name</th>\n",
       "      <th>Page Type</th>\n",
       "    </tr>\n",
       "  </thead>\n",
       "  <tbody>\n",
       "    <tr>\n",
       "      <th>0</th>\n",
       "      <td>78147</td>\n",
       "      <td>A</td>\n",
       "      <td>National</td>\n",
       "    </tr>\n",
       "    <tr>\n",
       "      <th>1</th>\n",
       "      <td>77981</td>\n",
       "      <td>C</td>\n",
       "      <td>National</td>\n",
       "    </tr>\n",
       "    <tr>\n",
       "      <th>2</th>\n",
       "      <td>66638</td>\n",
       "      <td>D</td>\n",
       "      <td>National</td>\n",
       "    </tr>\n",
       "    <tr>\n",
       "      <th>3</th>\n",
       "      <td>57342</td>\n",
       "      <td>E</td>\n",
       "      <td>National</td>\n",
       "    </tr>\n",
       "    <tr>\n",
       "      <th>4</th>\n",
       "      <td>48405</td>\n",
       "      <td>F</td>\n",
       "      <td>National</td>\n",
       "    </tr>\n",
       "  </tbody>\n",
       "</table>\n",
       "</div>"
      ],
      "text/plain": [
       "    hits Page Name Page Type\n",
       "0  78147         A  National\n",
       "1  77981         C  National\n",
       "2  66638         D  National\n",
       "3  57342         E  National\n",
       "4  48405         F  National"
      ]
     },
     "execution_count": 3,
     "metadata": {},
     "output_type": "execute_result"
    }
   ],
   "source": [
    "hits.head()"
   ]
  },
  {
   "cell_type": "code",
   "execution_count": 4,
   "metadata": {},
   "outputs": [
    {
     "data": {
      "text/plain": [
       "hits          int64\n",
       "Page Name    object\n",
       "Page Type    object\n",
       "dtype: object"
      ]
     },
     "execution_count": 4,
     "metadata": {},
     "output_type": "execute_result"
    }
   ],
   "source": [
    "hits.dtypes # types of data"
   ]
  },
  {
   "cell_type": "code",
   "execution_count": 5,
   "metadata": {},
   "outputs": [
    {
     "data": {
      "text/plain": [
       "(8468, 3)"
      ]
     },
     "execution_count": 5,
     "metadata": {},
     "output_type": "execute_result"
    }
   ],
   "source": [
    "hits.shape # (rows, columns) in the dataset"
   ]
  },
  {
   "cell_type": "markdown",
   "metadata": {},
   "source": [
    "To give a description of each variable:\n",
    "\n",
    "<b>Hits</b> : \n",
    "the total number of views the page on our website has had from our users in 4 months. \n",
    "\n",
    "<b>Page Name</b> : \n",
    "name of page\n",
    "\n",
    "<b>Page Type</b> : \n",
    "the type of page"
   ]
  },
  {
   "cell_type": "markdown",
   "metadata": {},
   "source": [
    "# 3. Top Level Stats"
   ]
  },
  {
   "cell_type": "markdown",
   "metadata": {},
   "source": [
    "In this section we will explore the dataset."
   ]
  },
  {
   "cell_type": "code",
   "execution_count": 6,
   "metadata": {},
   "outputs": [
    {
     "name": "stdout",
     "output_type": "stream",
     "text": [
      "Page Type\n",
      "Business    4,946\n",
      "Consumer    3,461\n",
      "National       60\n",
      "dtype: object\n"
     ]
    }
   ],
   "source": [
    "countpages = hits.drop(columns = 'hits') # dropping the hits\n",
    "total_pages = countpages.groupby(['Page Type']).count() # grouping by page type and counting\n",
    "total_pages_formatted = total_pages.apply(lambda x: \"{:,}\".format(x['Page Name']), axis=1) # formatting the numbers\n",
    "print(total_pages_formatted)"
   ]
  },
  {
   "cell_type": "markdown",
   "metadata": {},
   "source": [
    "Above is the number of pages of each type, business has just under 5,000 whereas national has only 60."
   ]
  },
  {
   "cell_type": "code",
   "execution_count": 7,
   "metadata": {},
   "outputs": [
    {
     "name": "stdout",
     "output_type": "stream",
     "text": [
      "              hits\n",
      "Page Type         \n",
      "Business   979,428\n",
      "National   788,283\n",
      "Consumer   643,643\n"
     ]
    }
   ],
   "source": [
    "total_hits = hits.groupby(['Page Type']).sum() # grouping by page type and summing the hits\n",
    "total_hits['hits'] = total_hits.apply(lambda x: \"{:,}\".format(x['hits']), axis=1) # formatting the numbers\n",
    "print(total_hits.sort_values('hits', ascending = False))"
   ]
  },
  {
   "cell_type": "markdown",
   "metadata": {},
   "source": [
    "The sum of the total hits across all pages in each outlet type are shown above. Our business pages received the most views, then national and consumer."
   ]
  },
  {
   "cell_type": "markdown",
   "metadata": {},
   "source": [
    "Now let's save each page type as a new dataframe to make it easier to inspect the data further."
   ]
  },
  {
   "cell_type": "code",
   "execution_count": 8,
   "metadata": {
    "scrolled": true
   },
   "outputs": [
    {
     "data": {
      "text/html": [
       "<div>\n",
       "<style scoped>\n",
       "    .dataframe tbody tr th:only-of-type {\n",
       "        vertical-align: middle;\n",
       "    }\n",
       "\n",
       "    .dataframe tbody tr th {\n",
       "        vertical-align: top;\n",
       "    }\n",
       "\n",
       "    .dataframe thead th {\n",
       "        text-align: right;\n",
       "    }\n",
       "</style>\n",
       "<table border=\"1\" class=\"dataframe\">\n",
       "  <thead>\n",
       "    <tr style=\"text-align: right;\">\n",
       "      <th></th>\n",
       "      <th>hits</th>\n",
       "      <th>Page Name</th>\n",
       "      <th>Page Type</th>\n",
       "    </tr>\n",
       "  </thead>\n",
       "  <tbody>\n",
       "    <tr>\n",
       "      <th>0</th>\n",
       "      <td>78147</td>\n",
       "      <td>A</td>\n",
       "      <td>National</td>\n",
       "    </tr>\n",
       "    <tr>\n",
       "      <th>1</th>\n",
       "      <td>77981</td>\n",
       "      <td>C</td>\n",
       "      <td>National</td>\n",
       "    </tr>\n",
       "    <tr>\n",
       "      <th>2</th>\n",
       "      <td>66638</td>\n",
       "      <td>D</td>\n",
       "      <td>National</td>\n",
       "    </tr>\n",
       "    <tr>\n",
       "      <th>3</th>\n",
       "      <td>57342</td>\n",
       "      <td>E</td>\n",
       "      <td>National</td>\n",
       "    </tr>\n",
       "    <tr>\n",
       "      <th>4</th>\n",
       "      <td>48405</td>\n",
       "      <td>F</td>\n",
       "      <td>National</td>\n",
       "    </tr>\n",
       "    <tr>\n",
       "      <th>5</th>\n",
       "      <td>39989</td>\n",
       "      <td>G</td>\n",
       "      <td>National</td>\n",
       "    </tr>\n",
       "    <tr>\n",
       "      <th>6</th>\n",
       "      <td>36471</td>\n",
       "      <td>H</td>\n",
       "      <td>National</td>\n",
       "    </tr>\n",
       "    <tr>\n",
       "      <th>7</th>\n",
       "      <td>34752</td>\n",
       "      <td>I</td>\n",
       "      <td>National</td>\n",
       "    </tr>\n",
       "    <tr>\n",
       "      <th>8</th>\n",
       "      <td>30561</td>\n",
       "      <td>J</td>\n",
       "      <td>National</td>\n",
       "    </tr>\n",
       "    <tr>\n",
       "      <th>9</th>\n",
       "      <td>30208</td>\n",
       "      <td>K</td>\n",
       "      <td>National</td>\n",
       "    </tr>\n",
       "    <tr>\n",
       "      <th>10</th>\n",
       "      <td>29316</td>\n",
       "      <td>L</td>\n",
       "      <td>National</td>\n",
       "    </tr>\n",
       "    <tr>\n",
       "      <th>11</th>\n",
       "      <td>29281</td>\n",
       "      <td>M</td>\n",
       "      <td>National</td>\n",
       "    </tr>\n",
       "    <tr>\n",
       "      <th>12</th>\n",
       "      <td>28352</td>\n",
       "      <td>N</td>\n",
       "      <td>National</td>\n",
       "    </tr>\n",
       "    <tr>\n",
       "      <th>13</th>\n",
       "      <td>25156</td>\n",
       "      <td>O</td>\n",
       "      <td>National</td>\n",
       "    </tr>\n",
       "    <tr>\n",
       "      <th>14</th>\n",
       "      <td>24661</td>\n",
       "      <td>P</td>\n",
       "      <td>National</td>\n",
       "    </tr>\n",
       "    <tr>\n",
       "      <th>15</th>\n",
       "      <td>22092</td>\n",
       "      <td>Q</td>\n",
       "      <td>National</td>\n",
       "    </tr>\n",
       "    <tr>\n",
       "      <th>16</th>\n",
       "      <td>16733</td>\n",
       "      <td>R</td>\n",
       "      <td>National</td>\n",
       "    </tr>\n",
       "    <tr>\n",
       "      <th>17</th>\n",
       "      <td>14013</td>\n",
       "      <td>S</td>\n",
       "      <td>National</td>\n",
       "    </tr>\n",
       "    <tr>\n",
       "      <th>19</th>\n",
       "      <td>12799</td>\n",
       "      <td>U</td>\n",
       "      <td>National</td>\n",
       "    </tr>\n",
       "    <tr>\n",
       "      <th>20</th>\n",
       "      <td>12774</td>\n",
       "      <td>V</td>\n",
       "      <td>National</td>\n",
       "    </tr>\n",
       "    <tr>\n",
       "      <th>24</th>\n",
       "      <td>9525</td>\n",
       "      <td>Z</td>\n",
       "      <td>National</td>\n",
       "    </tr>\n",
       "    <tr>\n",
       "      <th>27</th>\n",
       "      <td>8855</td>\n",
       "      <td>AC</td>\n",
       "      <td>National</td>\n",
       "    </tr>\n",
       "    <tr>\n",
       "      <th>28</th>\n",
       "      <td>8795</td>\n",
       "      <td>AD</td>\n",
       "      <td>National</td>\n",
       "    </tr>\n",
       "    <tr>\n",
       "      <th>31</th>\n",
       "      <td>8482</td>\n",
       "      <td>AG</td>\n",
       "      <td>National</td>\n",
       "    </tr>\n",
       "    <tr>\n",
       "      <th>36</th>\n",
       "      <td>7740</td>\n",
       "      <td>AL</td>\n",
       "      <td>National</td>\n",
       "    </tr>\n",
       "    <tr>\n",
       "      <th>49</th>\n",
       "      <td>5452</td>\n",
       "      <td>AY</td>\n",
       "      <td>National</td>\n",
       "    </tr>\n",
       "    <tr>\n",
       "      <th>57</th>\n",
       "      <td>4482</td>\n",
       "      <td>BG</td>\n",
       "      <td>National</td>\n",
       "    </tr>\n",
       "    <tr>\n",
       "      <th>60</th>\n",
       "      <td>4188</td>\n",
       "      <td>BJ</td>\n",
       "      <td>National</td>\n",
       "    </tr>\n",
       "    <tr>\n",
       "      <th>63</th>\n",
       "      <td>3991</td>\n",
       "      <td>BM</td>\n",
       "      <td>National</td>\n",
       "    </tr>\n",
       "    <tr>\n",
       "      <th>92</th>\n",
       "      <td>2952</td>\n",
       "      <td>CP</td>\n",
       "      <td>National</td>\n",
       "    </tr>\n",
       "    <tr>\n",
       "      <th>179</th>\n",
       "      <td>1803</td>\n",
       "      <td>FY</td>\n",
       "      <td>National</td>\n",
       "    </tr>\n",
       "    <tr>\n",
       "      <th>272</th>\n",
       "      <td>1224</td>\n",
       "      <td>JN</td>\n",
       "      <td>National</td>\n",
       "    </tr>\n",
       "    <tr>\n",
       "      <th>291</th>\n",
       "      <td>1180</td>\n",
       "      <td>KG</td>\n",
       "      <td>National</td>\n",
       "    </tr>\n",
       "    <tr>\n",
       "      <th>549</th>\n",
       "      <td>635</td>\n",
       "      <td>UE</td>\n",
       "      <td>National</td>\n",
       "    </tr>\n",
       "    <tr>\n",
       "      <th>751</th>\n",
       "      <td>463</td>\n",
       "      <td>ABY</td>\n",
       "      <td>National</td>\n",
       "    </tr>\n",
       "    <tr>\n",
       "      <th>790</th>\n",
       "      <td>444</td>\n",
       "      <td>ADL</td>\n",
       "      <td>National</td>\n",
       "    </tr>\n",
       "    <tr>\n",
       "      <th>960</th>\n",
       "      <td>363</td>\n",
       "      <td>AJZ</td>\n",
       "      <td>National</td>\n",
       "    </tr>\n",
       "    <tr>\n",
       "      <th>1236</th>\n",
       "      <td>266</td>\n",
       "      <td>AUP</td>\n",
       "      <td>National</td>\n",
       "    </tr>\n",
       "    <tr>\n",
       "      <th>1308</th>\n",
       "      <td>250</td>\n",
       "      <td>AXJ</td>\n",
       "      <td>National</td>\n",
       "    </tr>\n",
       "    <tr>\n",
       "      <th>1571</th>\n",
       "      <td>200</td>\n",
       "      <td>BHM</td>\n",
       "      <td>National</td>\n",
       "    </tr>\n",
       "    <tr>\n",
       "      <th>1662</th>\n",
       "      <td>191</td>\n",
       "      <td>BKZ</td>\n",
       "      <td>National</td>\n",
       "    </tr>\n",
       "    <tr>\n",
       "      <th>1957</th>\n",
       "      <td>157</td>\n",
       "      <td>BWI</td>\n",
       "      <td>National</td>\n",
       "    </tr>\n",
       "    <tr>\n",
       "      <th>2112</th>\n",
       "      <td>141</td>\n",
       "      <td>CCH</td>\n",
       "      <td>National</td>\n",
       "    </tr>\n",
       "    <tr>\n",
       "      <th>2271</th>\n",
       "      <td>131</td>\n",
       "      <td>CIK</td>\n",
       "      <td>National</td>\n",
       "    </tr>\n",
       "    <tr>\n",
       "      <th>2439</th>\n",
       "      <td>119</td>\n",
       "      <td>COW</td>\n",
       "      <td>National</td>\n",
       "    </tr>\n",
       "    <tr>\n",
       "      <th>2599</th>\n",
       "      <td>110</td>\n",
       "      <td>CVA</td>\n",
       "      <td>National</td>\n",
       "    </tr>\n",
       "    <tr>\n",
       "      <th>3080</th>\n",
       "      <td>85</td>\n",
       "      <td>DNN</td>\n",
       "      <td>National</td>\n",
       "    </tr>\n",
       "    <tr>\n",
       "      <th>3257</th>\n",
       "      <td>75</td>\n",
       "      <td>DUI</td>\n",
       "      <td>National</td>\n",
       "    </tr>\n",
       "    <tr>\n",
       "      <th>3419</th>\n",
       "      <td>72</td>\n",
       "      <td>EAO</td>\n",
       "      <td>National</td>\n",
       "    </tr>\n",
       "    <tr>\n",
       "      <th>4087</th>\n",
       "      <td>50</td>\n",
       "      <td>FAG</td>\n",
       "      <td>National</td>\n",
       "    </tr>\n",
       "    <tr>\n",
       "      <th>4610</th>\n",
       "      <td>41</td>\n",
       "      <td>FUJ</td>\n",
       "      <td>National</td>\n",
       "    </tr>\n",
       "    <tr>\n",
       "      <th>4689</th>\n",
       "      <td>38</td>\n",
       "      <td>FXK</td>\n",
       "      <td>National</td>\n",
       "    </tr>\n",
       "    <tr>\n",
       "      <th>4978</th>\n",
       "      <td>34</td>\n",
       "      <td>GIN</td>\n",
       "      <td>National</td>\n",
       "    </tr>\n",
       "    <tr>\n",
       "      <th>5775</th>\n",
       "      <td>22</td>\n",
       "      <td>HNE</td>\n",
       "      <td>National</td>\n",
       "    </tr>\n",
       "    <tr>\n",
       "      <th>6290</th>\n",
       "      <td>19</td>\n",
       "      <td>IGZ</td>\n",
       "      <td>National</td>\n",
       "    </tr>\n",
       "    <tr>\n",
       "      <th>6970</th>\n",
       "      <td>13</td>\n",
       "      <td>JHD</td>\n",
       "      <td>National</td>\n",
       "    </tr>\n",
       "    <tr>\n",
       "      <th>7470</th>\n",
       "      <td>9</td>\n",
       "      <td>KAJ</td>\n",
       "      <td>National</td>\n",
       "    </tr>\n",
       "    <tr>\n",
       "      <th>7640</th>\n",
       "      <td>6</td>\n",
       "      <td>KGX</td>\n",
       "      <td>National</td>\n",
       "    </tr>\n",
       "    <tr>\n",
       "      <th>7784</th>\n",
       "      <td>6</td>\n",
       "      <td>KML</td>\n",
       "      <td>National</td>\n",
       "    </tr>\n",
       "    <tr>\n",
       "      <th>8064</th>\n",
       "      <td>3</td>\n",
       "      <td>KXF</td>\n",
       "      <td>National</td>\n",
       "    </tr>\n",
       "  </tbody>\n",
       "</table>\n",
       "</div>"
      ],
      "text/plain": [
       "       hits Page Name Page Type\n",
       "0     78147         A  National\n",
       "1     77981         C  National\n",
       "2     66638         D  National\n",
       "3     57342         E  National\n",
       "4     48405         F  National\n",
       "5     39989         G  National\n",
       "6     36471         H  National\n",
       "7     34752         I  National\n",
       "8     30561         J  National\n",
       "9     30208         K  National\n",
       "10    29316         L  National\n",
       "11    29281         M  National\n",
       "12    28352         N  National\n",
       "13    25156         O  National\n",
       "14    24661         P  National\n",
       "15    22092         Q  National\n",
       "16    16733         R  National\n",
       "17    14013         S  National\n",
       "19    12799         U  National\n",
       "20    12774         V  National\n",
       "24     9525         Z  National\n",
       "27     8855        AC  National\n",
       "28     8795        AD  National\n",
       "31     8482        AG  National\n",
       "36     7740        AL  National\n",
       "49     5452        AY  National\n",
       "57     4482        BG  National\n",
       "60     4188        BJ  National\n",
       "63     3991        BM  National\n",
       "92     2952        CP  National\n",
       "179    1803        FY  National\n",
       "272    1224        JN  National\n",
       "291    1180        KG  National\n",
       "549     635        UE  National\n",
       "751     463       ABY  National\n",
       "790     444       ADL  National\n",
       "960     363       AJZ  National\n",
       "1236    266       AUP  National\n",
       "1308    250       AXJ  National\n",
       "1571    200       BHM  National\n",
       "1662    191       BKZ  National\n",
       "1957    157       BWI  National\n",
       "2112    141       CCH  National\n",
       "2271    131       CIK  National\n",
       "2439    119       COW  National\n",
       "2599    110       CVA  National\n",
       "3080     85       DNN  National\n",
       "3257     75       DUI  National\n",
       "3419     72       EAO  National\n",
       "4087     50       FAG  National\n",
       "4610     41       FUJ  National\n",
       "4689     38       FXK  National\n",
       "4978     34       GIN  National\n",
       "5775     22       HNE  National\n",
       "6290     19       IGZ  National\n",
       "6970     13       JHD  National\n",
       "7470      9       KAJ  National\n",
       "7640      6       KGX  National\n",
       "7784      6       KML  National\n",
       "8064      3       KXF  National"
      ]
     },
     "execution_count": 8,
     "metadata": {},
     "output_type": "execute_result"
    }
   ],
   "source": [
    "business = hits[hits['Page Type'].isin(['Business'])]\n",
    "consumer = hits[hits['Page Type'].isin(['Consumer'])]\n",
    "national = hits[hits['Page Type'].isin(['National'])]\n",
    "\n",
    "national "
   ]
  },
  {
   "cell_type": "markdown",
   "metadata": {},
   "source": [
    "Visualising the national data we can see that the total number of hits for any one national page drops to below 5,000 pretty quickly. Therefore, let's explore the distribution of hits further."
   ]
  },
  {
   "cell_type": "code",
   "execution_count": 9,
   "metadata": {
    "scrolled": false
   },
   "outputs": [
    {
     "data": {
      "image/png": "[encoded data removed]",
      "text/plain": [
       "<Figure size 432x288 with 1 Axes>"
      ]
     },
     "metadata": {
      "needs_background": "light"
     },
     "output_type": "display_data"
    }
   ],
   "source": [
    "national2 = national.head(40)\n",
    "ax = sns.barplot(x=\"hits\", y=\"Page Name\", data=national2, palette=\"Blues_d\")\n",
    "\n",
    "# Set the title.\n",
    "ax.set_title('Total number of hits on the top 30 national pages', fontsize=21);\n",
    "\n",
    "# x-axis labels\n",
    "ax.set_ylabel('Page Name', fontsize=16);\n",
    "\n",
    "# y-axis labels\n",
    "ax.set_xlabel('Total Number of Hits', fontsize=16);\n",
    "\n",
    "sns.set(rc={'figure.figsize':(25,15)})"
   ]
  },
  {
   "cell_type": "code",
   "execution_count": 10,
   "metadata": {},
   "outputs": [
    {
     "data": {
      "text/plain": [
       "count       60.000000\n",
       "mean     13138.050000\n",
       "std      19922.516808\n",
       "min          3.000000\n",
       "25%        116.750000\n",
       "50%       2377.500000\n",
       "75%      22734.250000\n",
       "max      78147.000000\n",
       "Name: hits, dtype: float64"
      ]
     },
     "execution_count": 10,
     "metadata": {},
     "output_type": "execute_result"
    }
   ],
   "source": [
    "national['hits'].describe() # statistical data for national pages"
   ]
  },
  {
   "cell_type": "code",
   "execution_count": 11,
   "metadata": {},
   "outputs": [
    {
     "data": {
      "text/plain": [
       "count     3461.000000\n",
       "mean       185.970240\n",
       "std        706.857401\n",
       "min          3.000000\n",
       "25%         16.000000\n",
       "50%         38.000000\n",
       "75%        100.000000\n",
       "max      13600.000000\n",
       "Name: hits, dtype: float64"
      ]
     },
     "execution_count": 11,
     "metadata": {},
     "output_type": "execute_result"
    }
   ],
   "source": [
    "consumer['hits'].describe() # statistical data for consumer pages"
   ]
  },
  {
   "cell_type": "code",
   "execution_count": 12,
   "metadata": {},
   "outputs": [
    {
     "data": {
      "text/plain": [
       "count     4947.000000\n",
       "mean       197.984233\n",
       "std        495.359796\n",
       "min          3.000000\n",
       "25%         19.000000\n",
       "50%         59.000000\n",
       "75%        169.000000\n",
       "max      12007.000000\n",
       "Name: hits, dtype: float64"
      ]
     },
     "execution_count": 12,
     "metadata": {},
     "output_type": "execute_result"
    }
   ],
   "source": [
    "business['hits'].describe() # statistical data for business pages"
   ]
  },
  {
   "cell_type": "markdown",
   "metadata": {},
   "source": [
    "Although we can start to draw comparisons and insights from the above, we can visualise the above minimums, maximums, interquartile ranges (IQR) and outliers using the following boxplot. "
   ]
  },
  {
   "cell_type": "code",
   "execution_count": 13,
   "metadata": {},
   "outputs": [
    {
     "data": {
      "image/png": "[encoded data removed]",
      "text/plain": [
       "<Figure size 1080x720 with 1 Axes>"
      ]
     },
     "metadata": {},
     "output_type": "display_data"
    }
   ],
   "source": [
    "hits.boxplot(column='hits', by='Page Type',figsize=(15,10))\n",
    "\n",
    "plt.xlabel('Page Type')\n",
    "plt.ylabel('Hits on Each Page');"
   ]
  },
  {
   "cell_type": "markdown",
   "metadata": {},
   "source": [
    "Using the above visualisation we can now clearly see the differing distribution of data amongst page types. \n",
    "\n",
    "The national pages although only 60 in comparison to 4,947 for business and 3,461 for consumer has the largest spread of hits, and has a maximum number of hits nearly 6 times that of consumer pages, the second highest. The IQRs are harder to see in the boxplot for business and consumer as they are close to 0, however we can see that across all page types there are outliers, meaning there are a proportion of pages that receive more hits than the maximum (which is based on the 75% + 1.5*IQR(25% to 75%)). These are the most viewed pages."
   ]
  },
  {
   "cell_type": "markdown",
   "metadata": {},
   "source": [
    "Let's take the pages that received above average hits (from the describe function above) respectively for each type."
   ]
  },
  {
   "cell_type": "code",
   "execution_count": 14,
   "metadata": {},
   "outputs": [
    {
     "name": "stdout",
     "output_type": "stream",
     "text": [
      "13138.05\n",
      "197.9842328684051\n",
      "185.97023981508235\n"
     ]
    }
   ],
   "source": [
    "a = national['hits'].mean()\n",
    "b = business['hits'].mean()\n",
    "c = consumer['hits'].mean()\n",
    "\n",
    "print(a)\n",
    "print(b)\n",
    "print(c)"
   ]
  },
  {
   "cell_type": "code",
   "execution_count": 15,
   "metadata": {},
   "outputs": [
    {
     "data": {
      "text/plain": [
       "hits         18\n",
       "Page Name    18\n",
       "Page Type    18\n",
       "dtype: int64"
      ]
     },
     "execution_count": 15,
     "metadata": {},
     "output_type": "execute_result"
    }
   ],
   "source": [
    "national[national['hits'] > 13138 ].count() # the number of national pages that received above average hits"
   ]
  },
  {
   "cell_type": "code",
   "execution_count": 16,
   "metadata": {},
   "outputs": [],
   "source": [
    "national2 = national.head(18) # saving these pages as a new dataframe"
   ]
  },
  {
   "cell_type": "code",
   "execution_count": 18,
   "metadata": {},
   "outputs": [
    {
     "data": {
      "text/plain": [
       "hits         1080\n",
       "Page Name    1079\n",
       "Page Type    1080\n",
       "dtype: int64"
      ]
     },
     "execution_count": 18,
     "metadata": {},
     "output_type": "execute_result"
    }
   ],
   "source": [
    "business[business['hits'] > 198 ].count() # the number of business pages that received above average hits"
   ]
  },
  {
   "cell_type": "code",
   "execution_count": 19,
   "metadata": {},
   "outputs": [],
   "source": [
    "business2 = business.head(1080) # saving these pages as a new dataframe"
   ]
  },
  {
   "cell_type": "code",
   "execution_count": 20,
   "metadata": {},
   "outputs": [
    {
     "data": {
      "text/plain": [
       "hits         503\n",
       "Page Name    503\n",
       "Page Type    503\n",
       "dtype: int64"
      ]
     },
     "execution_count": 20,
     "metadata": {},
     "output_type": "execute_result"
    }
   ],
   "source": [
    "consumer[consumer['hits'] > 186 ].count() # the number of consumer pages that received above average hits"
   ]
  },
  {
   "cell_type": "code",
   "execution_count": 21,
   "metadata": {},
   "outputs": [],
   "source": [
    "consumer2 = consumer.head(503) # saving these pages as a new dataframe"
   ]
  },
  {
   "cell_type": "code",
   "execution_count": 106,
   "metadata": {},
   "outputs": [
    {
     "name": "stdout",
     "output_type": "stream",
     "text": [
      "81.66%\n"
     ]
    }
   ],
   "source": [
    "print(\"{:.2%}\".format(((national2['hits'].sum())+(business2['hits'].sum())+(consumer2['hits'].sum()))/\n",
    "((national['hits'].sum())+(business['hits'].sum())+(consumer['hits'].sum())))) # the percentage of total "
   ]
  },
  {
   "cell_type": "markdown",
   "metadata": {},
   "source": [
    "The sum of hits on the top 1,601 pages account for nearly 82% of all hits. "
   ]
  },
  {
   "cell_type": "markdown",
   "metadata": {},
   "source": [
    "# 4. Calculations"
   ]
  },
  {
   "cell_type": "markdown",
   "metadata": {},
   "source": [
    "The following cells show how I put the calculations together to form part of my recommendations. "
   ]
  },
  {
   "cell_type": "code",
   "execution_count": 108,
   "metadata": {},
   "outputs": [
    {
     "name": "stdout",
     "output_type": "stream",
     "text": [
      "18.91%\n"
     ]
    }
   ],
   "source": [
    "# taking the combine number of pages that have above average hits for each outlet type from the steps above to show \n",
    "# the percentge of the total outlets I propose to enrich.\n",
    "\n",
    "pages_to_enrich = (18 + 1080 + 503)/hits.count().loc[('hits')]\n",
    "print(\"{:.2%}\".format(pages_to_enrich))"
   ]
  },
  {
   "cell_type": "code",
   "execution_count": 23,
   "metadata": {
    "scrolled": true
   },
   "outputs": [
    {
     "name": "stdout",
     "output_type": "stream",
     "text": [
      "The top 30.00% of national pages account for 87.54% of the total hits for national pages.\n",
      "The top 21.83% of business pages account for 78.16% of the total hits for business pages.\n",
      "The top 14.53% of consumer pages account for 79.77% of the total hits for consumer pages.\n"
     ]
    }
   ],
   "source": [
    "# National \n",
    "\n",
    "topnational1 = (national2['hits'].count()/national['hits'].count())  # calculating the percentage of national \n",
    "# pages with hits above the average of the group\n",
    "\n",
    "topnational = (national2['hits'].sum()/national['hits'].sum()) # calculating the percentage of the sum of hits of \n",
    "# the smaller subset of national pages from above of the full data of hits for national pages. \n",
    "\n",
    "print(\"The top \" + \"{:.2%}\".format(topnational1)+ \" of national pages account for \" \n",
    "      + \"{:.2%}\".format(topnational)+ \" of the total hits for national pages.\");\n",
    "\n",
    "# Business\n",
    "\n",
    "topbusiness1 = (business2['hits'].count()/business['hits'].count()) # calculating the percentage of business \n",
    "# pages with hits above the average of the group\n",
    "\n",
    "topbusiness = (business2['hits'].sum()/business['hits'].sum()) # calculating the percentage of the sum of hits of \n",
    "# the smaller subset of business pages from above of the full data of hits for business pages. \n",
    "\n",
    "print(\"The top \" + \"{:.2%}\".format(topbusiness1)+ \" of business pages account for \" \n",
    "      + \"{:.2%}\".format(topbusiness)+ \" of the total hits for business pages.\");\n",
    "\n",
    "# Consumer\n",
    "\n",
    "topconsumer1 = (consumer2['hits'].count()/consumer['hits'].count()) # calculating the percentage of consumer \n",
    "# pages with hits above the average of the group\n",
    "\n",
    "topconsumer = (consumer2['hits'].sum()/consumer['hits'].sum()) # calculating the percentage of the sum of hits of \n",
    "# the smaller subset of consumer pages from above of the full data of hits for consumer pages. \n",
    "\n",
    "print(\"The top \" + \"{:.2%}\".format(topconsumer1)+ \" of consumer pages account for \" \n",
    "      + \"{:.2%}\".format(topconsumer)+ \" of the total hits for consumer pages.\");"
   ]
  },
  {
   "cell_type": "markdown",
   "metadata": {},
   "source": [
    "# 5. Recommendations"
   ]
  },
  {
   "cell_type": "markdown",
   "metadata": {},
   "source": [
    "I recommend that we focus our time on enriching 18.9% of our UK national, business and consumer pages on our website, as these are the pages with views above the average for the respective page types, and therefore of most interest to our users.   \n",
    "\n",
    "The plot below shows the nationals have the largest range of usage hits and the most extreme outliers (shown by the blue dots to the right of the graph), the highest being 78,147. Whereas, consumer and business pages all have hits below 14,000 with the majority being more concentrated around their means. \n",
    "\n",
    "Therefore, the breakdown of the 1,601 outlets that we should focus on are:\n",
    "\n",
    "- The top 30.00% (18) of the national pages as they account for 87.54% of the total hits on national pages.\n",
    "- The top 21.83% (1,080) of the business pages as they account for 78.16% of the total hits on business pages.\n",
    "- The top 14.53% (503) of the consumer pages account for 79.77% of the total hits on consumer pages.\n",
    "\n",
    "Ensuring that these 1,601 pages contain full, up to date and accurate content we will be impacting nearly 82% of the total views on our UK pages in the last 4 months. "
   ]
  },
  {
   "cell_type": "code",
   "execution_count": 114,
   "metadata": {},
   "outputs": [
    {
     "data": {
      "image/png": "[encoded data removed]",
      "text/plain": [
       "<Figure size 1800x1080 with 1 Axes>"
      ]
     },
     "metadata": {},
     "output_type": "display_data"
    }
   ],
   "source": [
    "top = sns.stripplot(x=hits['hits'], y=hits['Page Type']);\n",
    "\n",
    "top.axes.set_title(\"Distribution of Total Hits Across the Top 3 UK Page Types\",fontsize=30)\n",
    "top.set_xlabel(\"Total Hits from Users\",fontsize=20)\n",
    "top.set_ylabel(\"Page Type\",fontsize=20)\n",
    "top.tick_params(labelsize=15)\n",
    "\n",
    "sns.set(rc={'figure.figsize':(25,15)})"
   ]
  },
  {
   "cell_type": "markdown",
   "metadata": {},
   "source": [
    "# 6. Actions from my recommendations"
   ]
  },
  {
   "cell_type": "markdown",
   "metadata": {},
   "source": [
    "From my recommendations my CEO assigned an enrichment project to our content data team and sent the following bulletin around our company: 'Project 1600:  We have identified the top 1,600 pages that generate 82% of clients focus.  We will start work this week going through all the UK nationals and enriching pages. Then we will move to consumer and B2B.'"
   ]
  }
 ],
 "metadata": {
  "kernelspec": {
   "display_name": "Python 3",
   "language": "python",
   "name": "python3"
  },
  "language_info": {
   "codemirror_mode": {
    "name": "ipython",
    "version": 3
   },
   "file_extension": ".py",
   "mimetype": "text/x-python",
   "name": "python",
   "nbconvert_exporter": "python",
   "pygments_lexer": "ipython3",
   "version": "3.8.3"
  }
 },
 "nbformat": 4,
 "nbformat_minor": 2
}
