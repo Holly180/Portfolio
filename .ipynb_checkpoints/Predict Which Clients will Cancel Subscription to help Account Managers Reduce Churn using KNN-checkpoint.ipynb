{
 "cells": [
  {
   "cell_type": "markdown",
   "metadata": {},
   "source": [
    "# Predict Which Clients will Cancel Subscription to help Account Managers Reduce Churn using KNN"
   ]
  },
  {
   "cell_type": "markdown",
   "metadata": {},
   "source": [
    "Our subcription based pricing model means we are exposed to clients cancelling their payments. Therefore, we \n",
    "want to be able to predict which clients will cancel their subscription to help Account Managers drive engagement and reduce cancellations. \n",
    "\n",
    "Please note that the data has been anonymised."
   ]
  },
  {
   "cell_type": "markdown",
   "metadata": {},
   "source": [
    "# 1. Import Libaries"
   ]
  },
  {
   "cell_type": "markdown",
   "metadata": {},
   "source": [
    "Below we are importing all the Python libraries we will need for this project."
   ]
  },
  {
   "cell_type": "code",
   "execution_count": 1,
   "metadata": {},
   "outputs": [],
   "source": [
    "import pandas as pd\n",
    "import numpy as np\n",
    "import seaborn as sns\n",
    "import matplotlib.pyplot as plt\n",
    "import itertools\n",
    "from matplotlib.gridspec import GridSpec\n",
    "\n",
    "plt.style.use('fivethirtyeight')\n",
    "%matplotlib inline\n",
    "palette = itertools.cycle(sns.color_palette())\n",
    "\n",
    "from sklearn.neighbors import KNeighborsClassifier\n",
    "from sklearn.model_selection import train_test_split\n",
    "from sklearn import preprocessing\n",
    "from sklearn import metrics\n",
    "from sklearn.model_selection import cross_val_score"
   ]
  },
  {
   "cell_type": "markdown",
   "metadata": {},
   "source": [
    "# 2. Import Data"
   ]
  },
  {
   "cell_type": "code",
   "execution_count": 2,
   "metadata": {},
   "outputs": [
    {
     "data": {
      "text/html": [
       "<div>\n",
       "<style scoped>\n",
       "    .dataframe tbody tr th:only-of-type {\n",
       "        vertical-align: middle;\n",
       "    }\n",
       "\n",
       "    .dataframe tbody tr th {\n",
       "        vertical-align: top;\n",
       "    }\n",
       "\n",
       "    .dataframe thead th {\n",
       "        text-align: right;\n",
       "    }\n",
       "</style>\n",
       "<table border=\"1\" class=\"dataframe\">\n",
       "  <thead>\n",
       "    <tr style=\"text-align: right;\">\n",
       "      <th></th>\n",
       "      <th>customerid</th>\n",
       "      <th>client_status</th>\n",
       "      <th>account_status</th>\n",
       "      <th>customer_name</th>\n",
       "      <th>customer_type</th>\n",
       "      <th>value</th>\n",
       "      <th>year_of_current_deal</th>\n",
       "      <th>cancellation_timing</th>\n",
       "      <th>sector</th>\n",
       "      <th>cancellation_reason</th>\n",
       "    </tr>\n",
       "  </thead>\n",
       "  <tbody>\n",
       "    <tr>\n",
       "      <th>70</th>\n",
       "      <td>2032</td>\n",
       "      <td>High</td>\n",
       "      <td>Active</td>\n",
       "      <td>74</td>\n",
       "      <td>Three</td>\n",
       "      <td>4950</td>\n",
       "      <td>2</td>\n",
       "      <td>NaN</td>\n",
       "      <td>Postal</td>\n",
       "      <td>NaN</td>\n",
       "    </tr>\n",
       "    <tr>\n",
       "      <th>436</th>\n",
       "      <td>21</td>\n",
       "      <td>Mid</td>\n",
       "      <td>Inactive</td>\n",
       "      <td>746</td>\n",
       "      <td>Three</td>\n",
       "      <td>4500</td>\n",
       "      <td>1</td>\n",
       "      <td>NaN</td>\n",
       "      <td>Agriculture</td>\n",
       "      <td>Switched to competitor</td>\n",
       "    </tr>\n",
       "    <tr>\n",
       "      <th>858</th>\n",
       "      <td>2071</td>\n",
       "      <td>high</td>\n",
       "      <td>Active</td>\n",
       "      <td>753</td>\n",
       "      <td>Two</td>\n",
       "      <td>3500</td>\n",
       "      <td>1</td>\n",
       "      <td>NaN</td>\n",
       "      <td>Real Estate</td>\n",
       "      <td>NaN</td>\n",
       "    </tr>\n",
       "    <tr>\n",
       "      <th>897</th>\n",
       "      <td>414</td>\n",
       "      <td>High</td>\n",
       "      <td>Active</td>\n",
       "      <td>635</td>\n",
       "      <td>Three</td>\n",
       "      <td>4750</td>\n",
       "      <td>4</td>\n",
       "      <td>NaN</td>\n",
       "      <td>Communication</td>\n",
       "      <td>NaN</td>\n",
       "    </tr>\n",
       "    <tr>\n",
       "      <th>1150</th>\n",
       "      <td>893</td>\n",
       "      <td>Mid</td>\n",
       "      <td>Active</td>\n",
       "      <td>295</td>\n",
       "      <td>Three</td>\n",
       "      <td>5100</td>\n",
       "      <td>3</td>\n",
       "      <td>NaN</td>\n",
       "      <td>Defence</td>\n",
       "      <td>NaN</td>\n",
       "    </tr>\n",
       "  </tbody>\n",
       "</table>\n",
       "</div>"
      ],
      "text/plain": [
       "      customerid client_status account_status  customer_name customer_type  \\\n",
       "70          2032          High         Active             74         Three   \n",
       "436           21           Mid       Inactive            746         Three   \n",
       "858         2071          high         Active            753           Two   \n",
       "897          414          High         Active            635         Three   \n",
       "1150         893           Mid         Active            295         Three   \n",
       "\n",
       "      value  year_of_current_deal cancellation_timing         sector  \\\n",
       "70     4950                     2                 NaN         Postal   \n",
       "436    4500                     1                 NaN    Agriculture   \n",
       "858    3500                     1                 NaN    Real Estate   \n",
       "897    4750                     4                 NaN  Communication   \n",
       "1150   5100                     3                 NaN        Defence   \n",
       "\n",
       "         cancellation_reason  \n",
       "70                       NaN  \n",
       "436   Switched to competitor  \n",
       "858                      NaN  \n",
       "897                      NaN  \n",
       "1150                     NaN  "
      ]
     },
     "execution_count": 2,
     "metadata": {},
     "output_type": "execute_result"
    }
   ],
   "source": [
    "columns = ['customerid','client_status','account_status','customer_name','customer_type','value','year_of_current_deal','cancellation_timing','sector','cancellation_reason']\n",
    "renewals = pd.read_csv('~/Documents/portfolio/datasets/Renewal-Cancelation Book Anonymised3.csv', names=columns, header=0)\n",
    "renewals.sample(5)"
   ]
  },
  {
   "cell_type": "markdown",
   "metadata": {},
   "source": [
    "Importing the renewal data we have the following variables:"
   ]
  },
  {
   "cell_type": "code",
   "execution_count": 3,
   "metadata": {},
   "outputs": [
    {
     "data": {
      "text/plain": [
       "customerid               int64\n",
       "client_status           object\n",
       "account_status          object\n",
       "customer_name            int64\n",
       "customer_type           object\n",
       "value                    int64\n",
       "year_of_current_deal     int64\n",
       "cancellation_timing     object\n",
       "sector                  object\n",
       "cancellation_reason     object\n",
       "dtype: object"
      ]
     },
     "execution_count": 3,
     "metadata": {},
     "output_type": "execute_result"
    }
   ],
   "source": [
    "renewals.dtypes"
   ]
  },
  {
   "cell_type": "markdown",
   "metadata": {},
   "source": [
    "To give a description of each variable:\n",
    "\n",
    "<br>\n",
    "\n",
    "<b>customerid</b> : \n",
    "a unique identifier for each account that will be used to join additional datasets later on \n",
    "\n",
    "<b>client_status</b> : \n",
    "a grading system of the account given by the account manager that denotes the level of usage and engagement, high means no cause for concern as high engagement and usage and low means little/no usage and engagement, high risk of cancellation.\n",
    "\n",
    "<b>account_status</b> : \n",
    "denotes whether the client is active (paying customer) or inactive (cancelled)\n",
    "\n",
    "<b>customer_name</b> : \n",
    "customer number     \n",
    "\n",
    "<b>customer_type</b> : \n",
    "we categorise into three pots of client according to size in revenue; one being the smallest, and three being the largest.\n",
    "\n",
    "<b>value</b> : \n",
    "the current price of subscription, there are three types of subcription for which the prices differ and this is dependent on the customer type.\n",
    "\n",
    "<b>year_of_current_deal</b> : \n",
    "the year of maturity of the account\n",
    "\n",
    "<b>cancellation_timing</b> : \n",
    "shows if the cancellation was at the start of a period or mid way through\n",
    "\n",
    "<b>sector</b>: \n",
    "the industry that the customer operates in \n",
    "\n",
    "<b>cancellation_reason</b> : \n",
    "a reason for cancellation picked from a preset list of reasons"
   ]
  },
  {
   "cell_type": "markdown",
   "metadata": {},
   "source": [
    "# 3. Exploratory Data Analysis (EDA) - For Data Cleaning"
   ]
  },
  {
   "cell_type": "markdown",
   "metadata": {},
   "source": [
    "In this section we will clean the initial dataset. To give us an idea of the size of the initial data we are working with, it has 1,152 rows and 10 columns. "
   ]
  },
  {
   "cell_type": "code",
   "execution_count": 4,
   "metadata": {},
   "outputs": [
    {
     "data": {
      "text/plain": [
       "(1152, 10)"
      ]
     },
     "execution_count": 4,
     "metadata": {},
     "output_type": "execute_result"
    }
   ],
   "source": [
    "renewals.shape"
   ]
  },
  {
   "cell_type": "code",
   "execution_count": 5,
   "metadata": {},
   "outputs": [
    {
     "data": {
      "text/plain": [
       "customerid                 0\n",
       "client_status             18\n",
       "account_status             0\n",
       "customer_name              0\n",
       "customer_type              0\n",
       "value                      0\n",
       "year_of_current_deal       0\n",
       "cancellation_timing     1097\n",
       "sector                     0\n",
       "cancellation_reason      899\n",
       "dtype: int64"
      ]
     },
     "execution_count": 5,
     "metadata": {},
     "output_type": "execute_result"
    }
   ],
   "source": [
    "# Identifing null values\n",
    "\n",
    "renewals.isnull().sum()"
   ]
  },
  {
   "cell_type": "code",
   "execution_count": 6,
   "metadata": {},
   "outputs": [],
   "source": [
    "# Dropping any unwanted columns. \n",
    "\n",
    "renewals.drop(columns=['cancellation_timing'],\n",
    "              inplace=True)"
   ]
  },
  {
   "cell_type": "code",
   "execution_count": 7,
   "metadata": {},
   "outputs": [
    {
     "data": {
      "text/plain": [
       "81      True\n",
       "147     True\n",
       "169     True\n",
       "172     True\n",
       "237     True\n",
       "241     True\n",
       "292     True\n",
       "346     True\n",
       "348     True\n",
       "401     True\n",
       "415     True\n",
       "428     True\n",
       "788     True\n",
       "799     True\n",
       "932     True\n",
       "972     True\n",
       "1012    True\n",
       "1074    True\n",
       "dtype: bool"
      ]
     },
     "execution_count": 7,
     "metadata": {},
     "output_type": "execute_result"
    }
   ],
   "source": [
    "# Indentifying the rows of the null values - they are newly won clients waiting for an engagement rating from Account Managers\n",
    "\n",
    "renewals[renewals['client_status'].isnull()].any(axis=1)"
   ]
  },
  {
   "cell_type": "code",
   "execution_count": 8,
   "metadata": {},
   "outputs": [],
   "source": [
    "# We can fill these 18 account status' in with 'Unknown'\n",
    "\n",
    "renewals['client_status'].fillna('Unknown', inplace = True)"
   ]
  },
  {
   "cell_type": "code",
   "execution_count": 9,
   "metadata": {},
   "outputs": [
    {
     "data": {
      "text/plain": [
       "customerid                     1284\n",
       "client_status                   Mid\n",
       "account_status               Active\n",
       "customer_name                   833\n",
       "customer_type                 Three\n",
       "value                          3000\n",
       "year_of_current_deal              2\n",
       "sector                  Electronics\n",
       "cancellation_reason             NaN\n",
       "Name: 44, dtype: object"
      ]
     },
     "execution_count": 9,
     "metadata": {},
     "output_type": "execute_result"
    }
   ],
   "source": [
    "# Checking that the previous null values are filled as expected\n",
    "\n",
    "renewals.loc[44]"
   ]
  },
  {
   "cell_type": "code",
   "execution_count": 10,
   "metadata": {},
   "outputs": [
    {
     "data": {
      "text/plain": [
       "Mid        527\n",
       "High       482\n",
       "Low         75\n",
       "high        50\n",
       "Unknown     18\n",
       "Name: client_status, dtype: int64"
      ]
     },
     "execution_count": 10,
     "metadata": {},
     "output_type": "execute_result"
    }
   ],
   "source": [
    "# Exploring the client status shows us that we should merge the two high categories.\n",
    "\n",
    "renewals['client_status'].value_counts()"
   ]
  },
  {
   "cell_type": "code",
   "execution_count": 11,
   "metadata": {},
   "outputs": [
    {
     "data": {
      "text/plain": [
       "High       532\n",
       "Mid        527\n",
       "Low         75\n",
       "Unknown     18\n",
       "Name: client_status, dtype: int64"
      ]
     },
     "execution_count": 11,
     "metadata": {},
     "output_type": "execute_result"
    }
   ],
   "source": [
    "# Cleaning the two high categories\n",
    "\n",
    "renewals['client_status'] = renewals['client_status'].replace({'high': 'High'})\n",
    "renewals['client_status'].value_counts()"
   ]
  },
  {
   "cell_type": "code",
   "execution_count": 12,
   "metadata": {},
   "outputs": [
    {
     "data": {
      "text/plain": [
       "198    True\n",
       "501    True\n",
       "727    True\n",
       "997    True\n",
       "dtype: bool"
      ]
     },
     "execution_count": 12,
     "metadata": {},
     "output_type": "execute_result"
    }
   ],
   "source": [
    "# Checking how many inactive customers have a missing value in cancellation reason\n",
    "\n",
    "cancelled = renewals[renewals['account_status'] == 'Inactive']\n",
    "cancelled[cancelled['cancellation_reason'].isnull()].any(axis=1)"
   ]
  },
  {
   "cell_type": "code",
   "execution_count": 13,
   "metadata": {},
   "outputs": [],
   "source": [
    "# filling in the cancellation reason of the inactive accounts with 'Reason Unknown'.\n",
    "\n",
    "renewals.loc[((renewals.account_status == 'Inactive') & (renewals.cancellation_reason.isnull())), \n",
    "             'cancellation_reason'] ='Reason Unknown'"
   ]
  },
  {
   "cell_type": "code",
   "execution_count": 14,
   "metadata": {},
   "outputs": [
    {
     "data": {
      "text/plain": [
       "customerid                0\n",
       "client_status             0\n",
       "account_status            0\n",
       "customer_name             0\n",
       "customer_type             0\n",
       "value                     0\n",
       "year_of_current_deal      0\n",
       "sector                    0\n",
       "cancellation_reason     895\n",
       "dtype: int64"
      ]
     },
     "execution_count": 14,
     "metadata": {},
     "output_type": "execute_result"
    }
   ],
   "source": [
    "# checking that the 32 cancelled account's cancellation reasons have been filled in\n",
    "\n",
    "renewals.isnull().sum()"
   ]
  },
  {
   "cell_type": "code",
   "execution_count": 15,
   "metadata": {},
   "outputs": [
    {
     "data": {
      "text/plain": [
       "No longer required              132\n",
       "Switched to competitor           62\n",
       "Insufficient Funds               34\n",
       "Data Quality                     12\n",
       "Low engagement                    5\n",
       "Merged with exsisting client      4\n",
       "Reason Unknown                    4\n",
       "We terminated contract            2\n",
       "Data quality                      2\n",
       "Name: cancellation_reason, dtype: int64"
      ]
     },
     "execution_count": 15,
     "metadata": {},
     "output_type": "execute_result"
    }
   ],
   "source": [
    "# Checking cancellation reason to see what the options are and if it needs cleaning\n",
    "\n",
    "renewals['cancellation_reason'].value_counts()"
   ]
  },
  {
   "cell_type": "code",
   "execution_count": 16,
   "metadata": {},
   "outputs": [
    {
     "data": {
      "text/plain": [
       "No longer required              132\n",
       "Switched to competitor           62\n",
       "Insufficient Funds               34\n",
       "Data quality                     14\n",
       "Low engagement                    5\n",
       "Merged with exsisting client      4\n",
       "Reason Unknown                    4\n",
       "We terminated contract            2\n",
       "Name: cancellation_reason, dtype: int64"
      ]
     },
     "execution_count": 16,
     "metadata": {},
     "output_type": "execute_result"
    }
   ],
   "source": [
    "# Combining the two data quality buckets \n",
    "\n",
    "renewals['cancellation_reason'] = renewals['cancellation_reason'].replace({'Data Quality': 'Data quality'})\n",
    "renewals['cancellation_reason'].value_counts()"
   ]
  },
  {
   "cell_type": "code",
   "execution_count": 17,
   "metadata": {},
   "outputs": [
    {
     "data": {
      "text/plain": [
       "569     2\n",
       "1151    1\n",
       "386     1\n",
       "380     1\n",
       "381     1\n",
       "       ..\n",
       "768     1\n",
       "769     1\n",
       "770     1\n",
       "771     1\n",
       "1       1\n",
       "Name: customer_name, Length: 1151, dtype: int64"
      ]
     },
     "execution_count": 17,
     "metadata": {},
     "output_type": "execute_result"
    }
   ],
   "source": [
    "# Checking for duplicate entries for clients\n",
    "\n",
    "renewals.customer_name.value_counts()"
   ]
  },
  {
   "cell_type": "code",
   "execution_count": 18,
   "metadata": {},
   "outputs": [
    {
     "data": {
      "text/html": [
       "<div>\n",
       "<style scoped>\n",
       "    .dataframe tbody tr th:only-of-type {\n",
       "        vertical-align: middle;\n",
       "    }\n",
       "\n",
       "    .dataframe tbody tr th {\n",
       "        vertical-align: top;\n",
       "    }\n",
       "\n",
       "    .dataframe thead th {\n",
       "        text-align: right;\n",
       "    }\n",
       "</style>\n",
       "<table border=\"1\" class=\"dataframe\">\n",
       "  <thead>\n",
       "    <tr style=\"text-align: right;\">\n",
       "      <th></th>\n",
       "      <th>customerid</th>\n",
       "      <th>client_status</th>\n",
       "      <th>account_status</th>\n",
       "      <th>customer_name</th>\n",
       "      <th>customer_type</th>\n",
       "      <th>value</th>\n",
       "      <th>year_of_current_deal</th>\n",
       "      <th>sector</th>\n",
       "      <th>cancellation_reason</th>\n",
       "    </tr>\n",
       "  </thead>\n",
       "  <tbody>\n",
       "    <tr>\n",
       "      <th>641</th>\n",
       "      <td>1490</td>\n",
       "      <td>Mid</td>\n",
       "      <td>Inactive</td>\n",
       "      <td>569</td>\n",
       "      <td>Two</td>\n",
       "      <td>10500</td>\n",
       "      <td>1</td>\n",
       "      <td>Construction</td>\n",
       "      <td>Switched to competitor</td>\n",
       "    </tr>\n",
       "    <tr>\n",
       "      <th>642</th>\n",
       "      <td>1490</td>\n",
       "      <td>Mid</td>\n",
       "      <td>Inactive</td>\n",
       "      <td>569</td>\n",
       "      <td>Two</td>\n",
       "      <td>10500</td>\n",
       "      <td>1</td>\n",
       "      <td>Construction</td>\n",
       "      <td>Switched to competitor</td>\n",
       "    </tr>\n",
       "  </tbody>\n",
       "</table>\n",
       "</div>"
      ],
      "text/plain": [
       "     customerid client_status account_status  customer_name customer_type  \\\n",
       "641        1490           Mid       Inactive            569           Two   \n",
       "642        1490           Mid       Inactive            569           Two   \n",
       "\n",
       "     value  year_of_current_deal        sector     cancellation_reason  \n",
       "641  10500                     1  Construction  Switched to competitor  \n",
       "642  10500                     1  Construction  Switched to competitor  "
      ]
     },
     "execution_count": 18,
     "metadata": {},
     "output_type": "execute_result"
    }
   ],
   "source": [
    "# locating the rows of the duplicate accounts and checking both rows have the same information before deleting one\n",
    "\n",
    "duplicate_name = renewals.customer_name == 569\n",
    "renewals[duplicate_name]"
   ]
  },
  {
   "cell_type": "code",
   "execution_count": 19,
   "metadata": {},
   "outputs": [],
   "source": [
    "# Deleting the one duplicate row where the cancellation reason is unknown\n",
    "\n",
    "renewals.drop(renewals.index[173], inplace = True)"
   ]
  },
  {
   "cell_type": "code",
   "execution_count": 20,
   "metadata": {},
   "outputs": [
    {
     "data": {
      "text/plain": [
       "569     2\n",
       "1151    1\n",
       "386     1\n",
       "380     1\n",
       "381     1\n",
       "       ..\n",
       "762     1\n",
       "761     1\n",
       "760     1\n",
       "759     1\n",
       "1       1\n",
       "Name: customer_name, Length: 1150, dtype: int64"
      ]
     },
     "execution_count": 20,
     "metadata": {},
     "output_type": "execute_result"
    }
   ],
   "source": [
    "# Checking there are no more duplications\n",
    "\n",
    "renewals.customer_name.value_counts()"
   ]
  },
  {
   "cell_type": "code",
   "execution_count": 21,
   "metadata": {},
   "outputs": [
    {
     "data": {
      "text/plain": [
       "(1151, 9)"
      ]
     },
     "execution_count": 21,
     "metadata": {},
     "output_type": "execute_result"
    }
   ],
   "source": [
    "# Another check that a row was permanently deleted from dataset\n",
    "\n",
    "renewals.shape"
   ]
  },
  {
   "cell_type": "code",
   "execution_count": 22,
   "metadata": {},
   "outputs": [
    {
     "data": {
      "text/plain": [
       "Active      895\n",
       "Inactive    256\n",
       "Name: account_status, dtype: int64"
      ]
     },
     "execution_count": 22,
     "metadata": {},
     "output_type": "execute_result"
    }
   ],
   "source": [
    "# Inspecting the account status\n",
    "\n",
    "renewals['account_status'].value_counts()"
   ]
  },
  {
   "cell_type": "markdown",
   "metadata": {},
   "source": [
    "Please refer to the project in a separate Jupyter Notebook called 'Data Cleaning and Visualisation to Give Insights Into Cancelling Clients' for visualisations that explore the variables in this dataset. "
   ]
  },
  {
   "cell_type": "markdown",
   "metadata": {},
   "source": [
    "# 5. K-Nearest Neighbours (KNN) Classification"
   ]
  },
  {
   "cell_type": "markdown",
   "metadata": {},
   "source": [
    "In this section we will use KNN Classification to predict the account status of a client either 'active' or 'inactive' using information we would only know on day 1 of their subscription.\n",
    "\n",
    "The model will search for a number of customers in the data that are 'nearest' in measurement to the account with unknown account status, it will then predict a value for account status (active or inactive) from the most frequently observed value from the 'nearest' customers in the data. The number of close proximity customers the model considers before making a prediction is up to us and denoted by k.\n",
    "\n",
    "First we will define the target, which is the account status and then we will define the predictors, which are customer type, sector and value."
   ]
  },
  {
   "cell_type": "code",
   "execution_count": 23,
   "metadata": {},
   "outputs": [],
   "source": [
    "# Setting up the features\n",
    "\n",
    "cat_cols = ['customer_type','sector']\n",
    "cont_cols = ['value']\n",
    "X = pd.concat([\n",
    "    renewals[cont_cols], \n",
    "    pd.get_dummies(renewals[cat_cols], drop_first=True) # turning the predictor categoric variables into dummy \n",
    "    # variables for learning purposes and dropping one\n",
    "], axis = 1)\n",
    "\n",
    "# Setting up the target\n",
    "\n",
    "renewals['account_status_map'] = renewals.account_status.map({'Inactive':0, 'Active':1})\n",
    "\n",
    "y = renewals.account_status_map"
   ]
  },
  {
   "cell_type": "code",
   "execution_count": 24,
   "metadata": {},
   "outputs": [
    {
     "data": {
      "text/plain": [
       "value                              int64\n",
       "customer_type_Three                uint8\n",
       "customer_type_Two                  uint8\n",
       "sector_Arts                        uint8\n",
       "sector_Chemicals                   uint8\n",
       "sector_Communication               uint8\n",
       "sector_Construction                uint8\n",
       "sector_Defence                     uint8\n",
       "sector_Electronics                 uint8\n",
       "sector_Internet                    uint8\n",
       "sector_Law                         uint8\n",
       "sector_Logistics                   uint8\n",
       "sector_Manufacturing               uint8\n",
       "sector_Materials                   uint8\n",
       "sector_Money                       uint8\n",
       "sector_Pharmaceuticals             uint8\n",
       "sector_Postal                      uint8\n",
       "sector_Real Estate                 uint8\n",
       "sector_Recruitment                 uint8\n",
       "sector_Research and Development    uint8\n",
       "sector_Science                     uint8\n",
       "sector_Sports                      uint8\n",
       "sector_Textiles                    uint8\n",
       "sector_Water                       uint8\n",
       "dtype: object"
      ]
     },
     "execution_count": 24,
     "metadata": {},
     "output_type": "execute_result"
    }
   ],
   "source": [
    "# Checking types are as expected and that a dummy variable has been dropped from each predictor\n",
    "\n",
    "X.dtypes"
   ]
  },
  {
   "cell_type": "code",
   "execution_count": 25,
   "metadata": {},
   "outputs": [
    {
     "data": {
      "text/html": [
       "<div>\n",
       "<style scoped>\n",
       "    .dataframe tbody tr th:only-of-type {\n",
       "        vertical-align: middle;\n",
       "    }\n",
       "\n",
       "    .dataframe tbody tr th {\n",
       "        vertical-align: top;\n",
       "    }\n",
       "\n",
       "    .dataframe thead th {\n",
       "        text-align: right;\n",
       "    }\n",
       "</style>\n",
       "<table border=\"1\" class=\"dataframe\">\n",
       "  <thead>\n",
       "    <tr style=\"text-align: right;\">\n",
       "      <th></th>\n",
       "      <th>value</th>\n",
       "      <th>customer_type_Three</th>\n",
       "      <th>customer_type_Two</th>\n",
       "      <th>sector_Arts</th>\n",
       "      <th>sector_Chemicals</th>\n",
       "      <th>sector_Communication</th>\n",
       "      <th>sector_Construction</th>\n",
       "      <th>sector_Defence</th>\n",
       "      <th>sector_Electronics</th>\n",
       "      <th>sector_Internet</th>\n",
       "      <th>...</th>\n",
       "      <th>sector_Money</th>\n",
       "      <th>sector_Pharmaceuticals</th>\n",
       "      <th>sector_Postal</th>\n",
       "      <th>sector_Real Estate</th>\n",
       "      <th>sector_Recruitment</th>\n",
       "      <th>sector_Research and Development</th>\n",
       "      <th>sector_Science</th>\n",
       "      <th>sector_Sports</th>\n",
       "      <th>sector_Textiles</th>\n",
       "      <th>sector_Water</th>\n",
       "    </tr>\n",
       "  </thead>\n",
       "  <tbody>\n",
       "    <tr>\n",
       "      <th>0</th>\n",
       "      <td>4950</td>\n",
       "      <td>1</td>\n",
       "      <td>0</td>\n",
       "      <td>0</td>\n",
       "      <td>0</td>\n",
       "      <td>0</td>\n",
       "      <td>0</td>\n",
       "      <td>0</td>\n",
       "      <td>1</td>\n",
       "      <td>0</td>\n",
       "      <td>...</td>\n",
       "      <td>0</td>\n",
       "      <td>0</td>\n",
       "      <td>0</td>\n",
       "      <td>0</td>\n",
       "      <td>0</td>\n",
       "      <td>0</td>\n",
       "      <td>0</td>\n",
       "      <td>0</td>\n",
       "      <td>0</td>\n",
       "      <td>0</td>\n",
       "    </tr>\n",
       "    <tr>\n",
       "      <th>1</th>\n",
       "      <td>3900</td>\n",
       "      <td>1</td>\n",
       "      <td>0</td>\n",
       "      <td>0</td>\n",
       "      <td>0</td>\n",
       "      <td>0</td>\n",
       "      <td>0</td>\n",
       "      <td>0</td>\n",
       "      <td>1</td>\n",
       "      <td>0</td>\n",
       "      <td>...</td>\n",
       "      <td>0</td>\n",
       "      <td>0</td>\n",
       "      <td>0</td>\n",
       "      <td>0</td>\n",
       "      <td>0</td>\n",
       "      <td>0</td>\n",
       "      <td>0</td>\n",
       "      <td>0</td>\n",
       "      <td>0</td>\n",
       "      <td>0</td>\n",
       "    </tr>\n",
       "    <tr>\n",
       "      <th>2</th>\n",
       "      <td>4950</td>\n",
       "      <td>1</td>\n",
       "      <td>0</td>\n",
       "      <td>0</td>\n",
       "      <td>0</td>\n",
       "      <td>0</td>\n",
       "      <td>0</td>\n",
       "      <td>0</td>\n",
       "      <td>1</td>\n",
       "      <td>0</td>\n",
       "      <td>...</td>\n",
       "      <td>0</td>\n",
       "      <td>0</td>\n",
       "      <td>0</td>\n",
       "      <td>0</td>\n",
       "      <td>0</td>\n",
       "      <td>0</td>\n",
       "      <td>0</td>\n",
       "      <td>0</td>\n",
       "      <td>0</td>\n",
       "      <td>0</td>\n",
       "    </tr>\n",
       "    <tr>\n",
       "      <th>3</th>\n",
       "      <td>4750</td>\n",
       "      <td>1</td>\n",
       "      <td>0</td>\n",
       "      <td>0</td>\n",
       "      <td>0</td>\n",
       "      <td>0</td>\n",
       "      <td>0</td>\n",
       "      <td>0</td>\n",
       "      <td>1</td>\n",
       "      <td>0</td>\n",
       "      <td>...</td>\n",
       "      <td>0</td>\n",
       "      <td>0</td>\n",
       "      <td>0</td>\n",
       "      <td>0</td>\n",
       "      <td>0</td>\n",
       "      <td>0</td>\n",
       "      <td>0</td>\n",
       "      <td>0</td>\n",
       "      <td>0</td>\n",
       "      <td>0</td>\n",
       "    </tr>\n",
       "    <tr>\n",
       "      <th>4</th>\n",
       "      <td>2000</td>\n",
       "      <td>1</td>\n",
       "      <td>0</td>\n",
       "      <td>0</td>\n",
       "      <td>0</td>\n",
       "      <td>0</td>\n",
       "      <td>0</td>\n",
       "      <td>0</td>\n",
       "      <td>1</td>\n",
       "      <td>0</td>\n",
       "      <td>...</td>\n",
       "      <td>0</td>\n",
       "      <td>0</td>\n",
       "      <td>0</td>\n",
       "      <td>0</td>\n",
       "      <td>0</td>\n",
       "      <td>0</td>\n",
       "      <td>0</td>\n",
       "      <td>0</td>\n",
       "      <td>0</td>\n",
       "      <td>0</td>\n",
       "    </tr>\n",
       "    <tr>\n",
       "      <th>...</th>\n",
       "      <td>...</td>\n",
       "      <td>...</td>\n",
       "      <td>...</td>\n",
       "      <td>...</td>\n",
       "      <td>...</td>\n",
       "      <td>...</td>\n",
       "      <td>...</td>\n",
       "      <td>...</td>\n",
       "      <td>...</td>\n",
       "      <td>...</td>\n",
       "      <td>...</td>\n",
       "      <td>...</td>\n",
       "      <td>...</td>\n",
       "      <td>...</td>\n",
       "      <td>...</td>\n",
       "      <td>...</td>\n",
       "      <td>...</td>\n",
       "      <td>...</td>\n",
       "      <td>...</td>\n",
       "      <td>...</td>\n",
       "      <td>...</td>\n",
       "    </tr>\n",
       "    <tr>\n",
       "      <th>1147</th>\n",
       "      <td>7500</td>\n",
       "      <td>1</td>\n",
       "      <td>0</td>\n",
       "      <td>0</td>\n",
       "      <td>0</td>\n",
       "      <td>0</td>\n",
       "      <td>0</td>\n",
       "      <td>1</td>\n",
       "      <td>0</td>\n",
       "      <td>0</td>\n",
       "      <td>...</td>\n",
       "      <td>0</td>\n",
       "      <td>0</td>\n",
       "      <td>0</td>\n",
       "      <td>0</td>\n",
       "      <td>0</td>\n",
       "      <td>0</td>\n",
       "      <td>0</td>\n",
       "      <td>0</td>\n",
       "      <td>0</td>\n",
       "      <td>0</td>\n",
       "    </tr>\n",
       "    <tr>\n",
       "      <th>1148</th>\n",
       "      <td>4690</td>\n",
       "      <td>1</td>\n",
       "      <td>0</td>\n",
       "      <td>0</td>\n",
       "      <td>0</td>\n",
       "      <td>0</td>\n",
       "      <td>0</td>\n",
       "      <td>1</td>\n",
       "      <td>0</td>\n",
       "      <td>0</td>\n",
       "      <td>...</td>\n",
       "      <td>0</td>\n",
       "      <td>0</td>\n",
       "      <td>0</td>\n",
       "      <td>0</td>\n",
       "      <td>0</td>\n",
       "      <td>0</td>\n",
       "      <td>0</td>\n",
       "      <td>0</td>\n",
       "      <td>0</td>\n",
       "      <td>0</td>\n",
       "    </tr>\n",
       "    <tr>\n",
       "      <th>1149</th>\n",
       "      <td>5000</td>\n",
       "      <td>1</td>\n",
       "      <td>0</td>\n",
       "      <td>0</td>\n",
       "      <td>0</td>\n",
       "      <td>0</td>\n",
       "      <td>0</td>\n",
       "      <td>1</td>\n",
       "      <td>0</td>\n",
       "      <td>0</td>\n",
       "      <td>...</td>\n",
       "      <td>0</td>\n",
       "      <td>0</td>\n",
       "      <td>0</td>\n",
       "      <td>0</td>\n",
       "      <td>0</td>\n",
       "      <td>0</td>\n",
       "      <td>0</td>\n",
       "      <td>0</td>\n",
       "      <td>0</td>\n",
       "      <td>0</td>\n",
       "    </tr>\n",
       "    <tr>\n",
       "      <th>1150</th>\n",
       "      <td>5100</td>\n",
       "      <td>1</td>\n",
       "      <td>0</td>\n",
       "      <td>0</td>\n",
       "      <td>0</td>\n",
       "      <td>0</td>\n",
       "      <td>0</td>\n",
       "      <td>1</td>\n",
       "      <td>0</td>\n",
       "      <td>0</td>\n",
       "      <td>...</td>\n",
       "      <td>0</td>\n",
       "      <td>0</td>\n",
       "      <td>0</td>\n",
       "      <td>0</td>\n",
       "      <td>0</td>\n",
       "      <td>0</td>\n",
       "      <td>0</td>\n",
       "      <td>0</td>\n",
       "      <td>0</td>\n",
       "      <td>0</td>\n",
       "    </tr>\n",
       "    <tr>\n",
       "      <th>1151</th>\n",
       "      <td>5500</td>\n",
       "      <td>1</td>\n",
       "      <td>0</td>\n",
       "      <td>0</td>\n",
       "      <td>0</td>\n",
       "      <td>0</td>\n",
       "      <td>0</td>\n",
       "      <td>1</td>\n",
       "      <td>0</td>\n",
       "      <td>0</td>\n",
       "      <td>...</td>\n",
       "      <td>0</td>\n",
       "      <td>0</td>\n",
       "      <td>0</td>\n",
       "      <td>0</td>\n",
       "      <td>0</td>\n",
       "      <td>0</td>\n",
       "      <td>0</td>\n",
       "      <td>0</td>\n",
       "      <td>0</td>\n",
       "      <td>0</td>\n",
       "    </tr>\n",
       "  </tbody>\n",
       "</table>\n",
       "<p>1151 rows × 24 columns</p>\n",
       "</div>"
      ],
      "text/plain": [
       "      value  customer_type_Three  customer_type_Two  sector_Arts  \\\n",
       "0      4950                    1                  0            0   \n",
       "1      3900                    1                  0            0   \n",
       "2      4950                    1                  0            0   \n",
       "3      4750                    1                  0            0   \n",
       "4      2000                    1                  0            0   \n",
       "...     ...                  ...                ...          ...   \n",
       "1147   7500                    1                  0            0   \n",
       "1148   4690                    1                  0            0   \n",
       "1149   5000                    1                  0            0   \n",
       "1150   5100                    1                  0            0   \n",
       "1151   5500                    1                  0            0   \n",
       "\n",
       "      sector_Chemicals  sector_Communication  sector_Construction  \\\n",
       "0                    0                     0                    0   \n",
       "1                    0                     0                    0   \n",
       "2                    0                     0                    0   \n",
       "3                    0                     0                    0   \n",
       "4                    0                     0                    0   \n",
       "...                ...                   ...                  ...   \n",
       "1147                 0                     0                    0   \n",
       "1148                 0                     0                    0   \n",
       "1149                 0                     0                    0   \n",
       "1150                 0                     0                    0   \n",
       "1151                 0                     0                    0   \n",
       "\n",
       "      sector_Defence  sector_Electronics  sector_Internet  ...  sector_Money  \\\n",
       "0                  0                   1                0  ...             0   \n",
       "1                  0                   1                0  ...             0   \n",
       "2                  0                   1                0  ...             0   \n",
       "3                  0                   1                0  ...             0   \n",
       "4                  0                   1                0  ...             0   \n",
       "...              ...                 ...              ...  ...           ...   \n",
       "1147               1                   0                0  ...             0   \n",
       "1148               1                   0                0  ...             0   \n",
       "1149               1                   0                0  ...             0   \n",
       "1150               1                   0                0  ...             0   \n",
       "1151               1                   0                0  ...             0   \n",
       "\n",
       "      sector_Pharmaceuticals  sector_Postal  sector_Real Estate  \\\n",
       "0                          0              0                   0   \n",
       "1                          0              0                   0   \n",
       "2                          0              0                   0   \n",
       "3                          0              0                   0   \n",
       "4                          0              0                   0   \n",
       "...                      ...            ...                 ...   \n",
       "1147                       0              0                   0   \n",
       "1148                       0              0                   0   \n",
       "1149                       0              0                   0   \n",
       "1150                       0              0                   0   \n",
       "1151                       0              0                   0   \n",
       "\n",
       "      sector_Recruitment  sector_Research and Development  sector_Science  \\\n",
       "0                      0                                0               0   \n",
       "1                      0                                0               0   \n",
       "2                      0                                0               0   \n",
       "3                      0                                0               0   \n",
       "4                      0                                0               0   \n",
       "...                  ...                              ...             ...   \n",
       "1147                   0                                0               0   \n",
       "1148                   0                                0               0   \n",
       "1149                   0                                0               0   \n",
       "1150                   0                                0               0   \n",
       "1151                   0                                0               0   \n",
       "\n",
       "      sector_Sports  sector_Textiles  sector_Water  \n",
       "0                 0                0             0  \n",
       "1                 0                0             0  \n",
       "2                 0                0             0  \n",
       "3                 0                0             0  \n",
       "4                 0                0             0  \n",
       "...             ...              ...           ...  \n",
       "1147              0                0             0  \n",
       "1148              0                0             0  \n",
       "1149              0                0             0  \n",
       "1150              0                0             0  \n",
       "1151              0                0             0  \n",
       "\n",
       "[1151 rows x 24 columns]"
      ]
     },
     "execution_count": 25,
     "metadata": {},
     "output_type": "execute_result"
    }
   ],
   "source": [
    "X"
   ]
  },
  {
   "cell_type": "markdown",
   "metadata": {},
   "source": [
    "The next steps split our data into 2 parts, the first is 863 rows, which we will feed into our model first for it to learn the relationships between the account status and the customer type, value and sector. We will then optimise the model's ability to predict the account status by tuning the parameters. Following that we will use the second batch of data of 288 rows to test the model's accuracy of predicting the account status of customers whose information it has not seen before using what it has learnt about the relationships of the variables from training. "
   ]
  },
  {
   "cell_type": "code",
   "execution_count": 26,
   "metadata": {},
   "outputs": [],
   "source": [
    "# Spliting the dataset into train and test by 75%/25%. Using the random state means the split will happen by the \n",
    "# same random everytime, meaning if someone else were to test the model they could use the same random state number and \n",
    "# get the same split.\n",
    "\n",
    "X_train, X_test, y_train, y_test = train_test_split(X, y, random_state=60)"
   ]
  },
  {
   "cell_type": "code",
   "execution_count": 27,
   "metadata": {},
   "outputs": [
    {
     "name": "stdout",
     "output_type": "stream",
     "text": [
      "(1151, 24)\n",
      "(863, 24)\n",
      "(288, 24)\n"
     ]
    }
   ],
   "source": [
    "# Dataset before splitting\n",
    "\n",
    "print(X.shape)\n",
    "\n",
    "# After splitting\n",
    "\n",
    "print(X_train.shape)\n",
    "print(X_test.shape)"
   ]
  },
  {
   "cell_type": "code",
   "execution_count": 28,
   "metadata": {},
   "outputs": [
    {
     "name": "stdout",
     "output_type": "stream",
     "text": [
      "(1151,)\n",
      "(863,)\n",
      "(288,)\n"
     ]
    }
   ],
   "source": [
    "# Dataset before splitting\n",
    "\n",
    "print(y.shape)\n",
    "\n",
    "# After splitting\n",
    "\n",
    "print(y_train.shape)\n",
    "print(y_test.shape)"
   ]
  },
  {
   "cell_type": "markdown",
   "metadata": {},
   "source": [
    "Next, we standardise the data after splitting it, this is so that the model doesn't get any information about the test subset of data through the mean in the calculation. We want the test data to be completely new to the model when we introduce it so that we can judge it's true accuracy in predicting account status of unseen data."
   ]
  },
  {
   "cell_type": "code",
   "execution_count": 29,
   "metadata": {},
   "outputs": [],
   "source": [
    "# Standardise the data\n",
    "\n",
    "from sklearn.preprocessing import StandardScaler\n",
    "scaler = StandardScaler()\n",
    "scaler.fit(X_train)\n",
    "\n",
    "X_train = scaler.transform(X_train)\n",
    "X_test = scaler.transform(X_test)"
   ]
  },
  {
   "cell_type": "code",
   "execution_count": 30,
   "metadata": {},
   "outputs": [
    {
     "data": {
      "text/plain": [
       "array([[-1.18145028, -1.14886573, -0.67476809, ..., -0.0763381 ,\n",
       "         2.73144363, -0.06823912],\n",
       "       [ 0.65439471, -1.14886573,  1.48199065, ..., -0.0763381 ,\n",
       "        -0.36610677, -0.06823912],\n",
       "       [ 0.04244638,  0.87042373, -0.67476809, ..., -0.0763381 ,\n",
       "        -0.36610677, -0.06823912],\n",
       "       ...,\n",
       "       [ 0.31782313,  0.87042373, -0.67476809, ..., -0.0763381 ,\n",
       "        -0.36610677, -0.06823912],\n",
       "       [ 0.13423863, -1.14886573,  1.48199065, ..., -0.0763381 ,\n",
       "        -0.36610677, -0.06823912],\n",
       "       [ 0.04244638,  0.87042373, -0.67476809, ..., -0.0763381 ,\n",
       "        -0.36610677, -0.06823912]])"
      ]
     },
     "execution_count": 30,
     "metadata": {},
     "output_type": "execute_result"
    }
   ],
   "source": [
    "X_train"
   ]
  },
  {
   "cell_type": "code",
   "execution_count": 31,
   "metadata": {},
   "outputs": [
    {
     "data": {
      "text/plain": [
       "KNeighborsClassifier(n_neighbors=1)"
      ]
     },
     "execution_count": 31,
     "metadata": {},
     "output_type": "execute_result"
    }
   ],
   "source": [
    "# Training the model with the train set of data where k=1\n",
    "\n",
    "knn = KNeighborsClassifier(n_neighbors=1)\n",
    "\n",
    "# Fitting the model\n",
    "\n",
    "knn.fit(X_train, y_train.astype(int))\n"
   ]
  },
  {
   "cell_type": "code",
   "execution_count": 32,
   "metadata": {},
   "outputs": [
    {
     "name": "stdout",
     "output_type": "stream",
     "text": [
      "0.6701388888888888\n"
     ]
    }
   ],
   "source": [
    "# Store the predicted response values of y_test\n",
    "\n",
    "y_pred_class = knn.predict(X_test)\n",
    "\n",
    "# Accuracy of model \n",
    "\n",
    "print((metrics.accuracy_score(y_test, y_pred_class)))"
   ]
  },
  {
   "cell_type": "markdown",
   "metadata": {},
   "source": [
    "Our model predicts with 67% accuracy the correct account status when considering the 1 closest customer in the dataset. However, this isn't hard given we have an imbalance in account status', with the majority (74%) of the customers live.\n",
    "\n",
    "By calculating the baseline accuracy we can find the minimum accuracy that is achieved by always predicting the most frequent account status."
   ]
  },
  {
   "cell_type": "code",
   "execution_count": 33,
   "metadata": {},
   "outputs": [
    {
     "name": "stdout",
     "output_type": "stream",
     "text": [
      "1    677\n",
      "0    186\n",
      "Name: account_status_map, dtype: int64\n"
     ]
    },
    {
     "data": {
      "text/plain": [
       "1"
      ]
     },
     "execution_count": 33,
     "metadata": {},
     "output_type": "execute_result"
    }
   ],
   "source": [
    "# Confirming the most frequent class is 1 to find a baseline accuracy. \n",
    "\n",
    "most_freq_class = y_train.value_counts().index[0]\n",
    "\n",
    "print(y_train.value_counts())\n",
    "most_freq_class"
   ]
  },
  {
   "cell_type": "code",
   "execution_count": 34,
   "metadata": {},
   "outputs": [
    {
     "name": "stdout",
     "output_type": "stream",
     "text": [
      "0.7569444444444444\n",
      "0.24305555555555555\n",
      "0.4444444444444444\n"
     ]
    }
   ],
   "source": [
    "# calculating different baseline accuracies\n",
    "\n",
    "baseline_accuracyone = y_test.value_counts()[most_freq_class] / len(y_test)\n",
    "baseline_accuracytwo = metrics.accuracy_score(y_test, np.zeros(len(y_test)))\n",
    "baseline_accuracythree = metrics.accuracy_score(y_test, np.random.randint(2, size=(len(y_test))))\n",
    "\n",
    "print(baseline_accuracyone)\n",
    "print(baseline_accuracytwo)\n",
    "print(baseline_accuracythree)"
   ]
  },
  {
   "cell_type": "markdown",
   "metadata": {},
   "source": [
    "Comparing different baseline accuracy measures shows varying results. The highest accuracy showing that if we were to predict each unknown account status as live we would have predicted 76% of the whole dataset correctly. Therefore, if our KNN model cannot improve on this level of accuracy it won't be a useful model.\n",
    "\n",
    "Therefore, let's find the optimal value for k to see if we can improve our model."
   ]
  },
  {
   "cell_type": "code",
   "execution_count": 35,
   "metadata": {},
   "outputs": [],
   "source": [
    "# Running a KNN model for k=1 to 99 and making a list of scores to plot to find the optimal value for k. \n",
    "\n",
    "scores = []\n",
    "for k in range(1,100):\n",
    "    knn = KNeighborsClassifier(n_neighbors=k)\n",
    "    knn.fit(X,y)\n",
    "    pred = knn.predict(X)\n",
    "    score = float(sum(pred == y)) / len(y)\n",
    "    scores.append([k, score])"
   ]
  },
  {
   "cell_type": "code",
   "execution_count": 36,
   "metadata": {},
   "outputs": [
    {
     "data": {
      "image/png": "[encoded data removed]",
      "text/plain": [
       "<Figure size 1008x576 with 1 Axes>"
      ]
     },
     "metadata": {
      "needs_background": "light"
     },
     "output_type": "display_data"
    }
   ],
   "source": [
    "# Shows the variation of accuracy when the size of k increases\n",
    "\n",
    "data = pd.DataFrame(scores,columns=['k','score'])\n",
    "data.plot.line(x='k',y='score', figsize = (14,8));\n",
    "\n",
    "plt.xlabel('Values of K', fontsize = 14);\n",
    "plt.ylabel('KNN Score', fontsize = 14);\n",
    "plt.suptitle('KNN Score for Different Values of K', fontsize=20);"
   ]
  },
  {
   "cell_type": "code",
   "execution_count": 37,
   "metadata": {},
   "outputs": [],
   "source": [
    "# Calculating the training and testing error for K=1 through 100 so that we can use a value for K that has both \n",
    "# the greatest score and also the least errors.\n",
    "\n",
    "k_range = list(range(1, 101))\n",
    "training_error = []\n",
    "testing_error = []\n",
    "\n",
    "\n",
    "for k in k_range:\n",
    "\n",
    "    # Instantiate the model with the current K value\n",
    "    knn = KNeighborsClassifier(n_neighbors=k)\n",
    "    knn.fit(X_train, y_train)\n",
    "    \n",
    "    # Calculate training error (error = 1 - accuracy)\n",
    "    y_pred_class = knn.predict(X_train)\n",
    "    training_accuracy = metrics.accuracy_score(y_train, y_pred_class)\n",
    "    training_error.append(1 - training_accuracy)\n",
    "    \n",
    "    # Calculate testing error\n",
    "    y_pred_class = knn.predict(X_test)\n",
    "    testing_accuracy = metrics.accuracy_score(y_test, y_pred_class)\n",
    "    testing_error.append(1 - testing_accuracy)"
   ]
  },
  {
   "cell_type": "code",
   "execution_count": 38,
   "metadata": {},
   "outputs": [
    {
     "data": {
      "text/html": [
       "<div>\n",
       "<style scoped>\n",
       "    .dataframe tbody tr th:only-of-type {\n",
       "        vertical-align: middle;\n",
       "    }\n",
       "\n",
       "    .dataframe tbody tr th {\n",
       "        vertical-align: top;\n",
       "    }\n",
       "\n",
       "    .dataframe thead th {\n",
       "        text-align: right;\n",
       "    }\n",
       "</style>\n",
       "<table border=\"1\" class=\"dataframe\">\n",
       "  <thead>\n",
       "    <tr style=\"text-align: right;\">\n",
       "      <th></th>\n",
       "      <th>training error</th>\n",
       "      <th>testing error</th>\n",
       "    </tr>\n",
       "    <tr>\n",
       "      <th>K</th>\n",
       "      <th></th>\n",
       "      <th></th>\n",
       "    </tr>\n",
       "  </thead>\n",
       "  <tbody>\n",
       "    <tr>\n",
       "      <th>100</th>\n",
       "      <td>0.215527</td>\n",
       "      <td>0.243056</td>\n",
       "    </tr>\n",
       "    <tr>\n",
       "      <th>99</th>\n",
       "      <td>0.215527</td>\n",
       "      <td>0.243056</td>\n",
       "    </tr>\n",
       "    <tr>\n",
       "      <th>98</th>\n",
       "      <td>0.215527</td>\n",
       "      <td>0.243056</td>\n",
       "    </tr>\n",
       "    <tr>\n",
       "      <th>97</th>\n",
       "      <td>0.215527</td>\n",
       "      <td>0.243056</td>\n",
       "    </tr>\n",
       "    <tr>\n",
       "      <th>96</th>\n",
       "      <td>0.215527</td>\n",
       "      <td>0.243056</td>\n",
       "    </tr>\n",
       "  </tbody>\n",
       "</table>\n",
       "</div>"
      ],
      "text/plain": [
       "     training error  testing error\n",
       "K                                 \n",
       "100        0.215527       0.243056\n",
       "99         0.215527       0.243056\n",
       "98         0.215527       0.243056\n",
       "97         0.215527       0.243056\n",
       "96         0.215527       0.243056"
      ]
     },
     "execution_count": 38,
     "metadata": {},
     "output_type": "execute_result"
    }
   ],
   "source": [
    "# Creating a DataFrame of K, training error, and testing error\n",
    "\n",
    "column_dict = {'K': k_range, 'training error':training_error, 'testing error':testing_error}\n",
    "df = pd.DataFrame(column_dict).set_index('K').sort_index(ascending=False)\n",
    "df.head()"
   ]
  },
  {
   "cell_type": "code",
   "execution_count": 39,
   "metadata": {},
   "outputs": [
    {
     "data": {
      "image/png": "[encoded data removed]",
      "text/plain": [
       "<Figure size 1584x576 with 1 Axes>"
      ]
     },
     "metadata": {
      "needs_background": "light"
     },
     "output_type": "display_data"
    }
   ],
   "source": [
    "# Plotting the relationship between K and testing error. \n",
    "\n",
    "df.plot(y='testing error', figsize =(22,8));\n",
    "plt.xlabel('Value of K for KNN');\n",
    "plt.ylabel('Error (lower is better)');"
   ]
  },
  {
   "cell_type": "code",
   "execution_count": 40,
   "metadata": {},
   "outputs": [
    {
     "data": {
      "image/png": "[encoded data removed]",
      "text/plain": [
       "<Figure size 432x288 with 1 Axes>"
      ]
     },
     "metadata": {
      "needs_background": "light"
     },
     "output_type": "display_data"
    }
   ],
   "source": [
    "# Plot the relationship between K and both the training error and testing error.\n",
    "\n",
    "df.plot();\n",
    "plt.xlabel('Value of K', fontsize = 14);\n",
    "plt.ylabel('Error', fontsize = 14);\n",
    "plt.suptitle('Training and Testing Error for Different Values of K', fontsize=20);"
   ]
  },
  {
   "cell_type": "markdown",
   "metadata": {},
   "source": [
    "We want to select the value of k when the testing error is the lowest. In the graph above, the errors plateaus, therefore the model is likely underfitting. This is because the model is unable to capture the relationship between  the account status and the predictor variables. This could be because the model is too simple, the input features are not expressive enough to describe the target well. "
   ]
  },
  {
   "cell_type": "code",
   "execution_count": 41,
   "metadata": {},
   "outputs": [
    {
     "data": {
      "text/plain": [
       "(0.23263888888888884, 18)"
      ]
     },
     "execution_count": 41,
     "metadata": {},
     "output_type": "execute_result"
    }
   ],
   "source": [
    "# Finding the optimal k value with the lowest testing error.\n",
    "\n",
    "min(list(zip(testing_error, k_range)))"
   ]
  },
  {
   "cell_type": "code",
   "execution_count": 45,
   "metadata": {},
   "outputs": [
    {
     "data": {
      "text/plain": [
       "0.7673611111111112"
      ]
     },
     "execution_count": 45,
     "metadata": {},
     "output_type": "execute_result"
    }
   ],
   "source": [
    "# Running the KNN model again using the optimal value of K, 18. \n",
    "\n",
    "knn = KNeighborsClassifier(n_neighbors=18)\n",
    "knn.fit(X_train, y_train)\n",
    "y_pred_class = knn.predict(X_test)\n",
    "knn_score = metrics.accuracy_score(y_test, y_pred_class)\n",
    "knn_score"
   ]
  },
  {
   "cell_type": "code",
   "execution_count": 46,
   "metadata": {},
   "outputs": [
    {
     "data": {
      "text/plain": [
       "array([0.77777778, 0.77777778, 0.77777778, 0.77777778, 0.77777778,\n",
       "       0.66666667, 0.77777778, 0.77777778, 0.77777778, 0.77777778,\n",
       "       0.77777778, 0.77777778, 0.77777778, 0.77777778, 0.77777778,\n",
       "       0.77777778, 0.77777778, 0.77777778, 0.77777778, 0.77777778,\n",
       "       0.77777778, 0.77777778, 0.77777778, 0.77777778, 0.77777778,\n",
       "       0.77777778, 0.77777778, 0.77777778, 0.77777778, 0.77777778,\n",
       "       0.77777778, 0.66666667, 0.66666667, 0.77777778, 0.77777778,\n",
       "       0.66666667, 0.66666667, 0.77777778, 0.66666667, 0.77777778,\n",
       "       0.66666667, 0.77777778, 0.77777778, 0.77777778, 0.77777778,\n",
       "       0.77777778, 0.66666667, 0.77777778, 0.77777778, 0.77777778,\n",
       "       0.77777778, 0.77777778, 0.77777778, 0.77777778, 0.77777778,\n",
       "       0.66666667, 0.77777778, 0.77777778, 0.77777778, 0.77777778,\n",
       "       0.77777778, 0.77777778, 0.77777778, 0.875     , 0.875     ,\n",
       "       0.875     , 0.875     , 0.875     , 0.875     , 0.875     ,\n",
       "       0.875     , 0.875     , 0.875     , 0.875     , 0.875     ,\n",
       "       0.875     , 0.875     , 0.75      , 0.75      , 0.75      ,\n",
       "       0.75      , 0.75      , 0.75      , 0.75      , 0.75      ,\n",
       "       0.625     , 0.75      , 0.75      , 0.75      , 0.75      ,\n",
       "       0.625     , 0.75      , 0.75      , 0.75      , 0.75      ,\n",
       "       0.75      , 0.75      , 0.75      , 0.75      , 0.75      ])"
      ]
     },
     "execution_count": 46,
     "metadata": {},
     "output_type": "execute_result"
    }
   ],
   "source": [
    "# Computing the validation score 100 consecutive times (with different splits each time).\n",
    "# The results show scores within the range 62.5% - 88.8%.\n",
    "\n",
    "cross_val_score(knn, X_train, y_train, cv=100, scoring='accuracy')"
   ]
  },
  {
   "cell_type": "code",
   "execution_count": 47,
   "metadata": {},
   "outputs": [
    {
     "name": "stdout",
     "output_type": "stream",
     "text": [
      "Highest baseline accuracy: 0.7569444444444444\n",
      "KNN accuracy score: 0.7673611111111112\n",
      "Difference in accuracy score between baseline accuracy and our model: 0.01041666666666674\n"
     ]
    }
   ],
   "source": [
    "print(\"Highest baseline accuracy: \" + str(baseline_accuracyone))\n",
    "print(\"KNN accuracy score: \" + str(knn_score))\n",
    "print(\"Difference in accuracy score between baseline accuracy and our model: \" + str(knn_score - \n",
    "                                                                                     baseline_accuracyone))"
   ]
  },
  {
   "cell_type": "markdown",
   "metadata": {},
   "source": [
    "From finding the optimal k of 18 we can add 0.01% accuracy to predictions with our model. More specifically this means that given new data our model will look to the closest 9 customers to each new customer and predict a value for account status (active or inactive) from the most frequently observed value from those 9 with 79.5% accuracy each time."
   ]
  }
 ],
 "metadata": {
  "kernelspec": {
   "display_name": "Python 3",
   "language": "python",
   "name": "python3"
  },
  "language_info": {
   "codemirror_mode": {
    "name": "ipython",
    "version": 3
   },
   "file_extension": ".py",
   "mimetype": "text/x-python",
   "name": "python",
   "nbconvert_exporter": "python",
   "pygments_lexer": "ipython3",
   "version": "3.8.3"
  }
 },
 "nbformat": 4,
 "nbformat_minor": 2
}
